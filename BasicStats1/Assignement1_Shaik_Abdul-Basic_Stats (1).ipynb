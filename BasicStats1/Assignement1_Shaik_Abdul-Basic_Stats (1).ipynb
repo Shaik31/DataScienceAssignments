{
 "cells": [
  {
   "cell_type": "markdown",
   "id": "7a38bc74",
   "metadata": {},
   "source": [
    "## Shaik_Abdul_Khdar - Assignement-1__(Basic_statastics)"
   ]
  },
  {
   "cell_type": "markdown",
   "id": "60b1fab2",
   "metadata": {},
   "source": [
    "## Question 7"
   ]
  },
  {
   "cell_type": "raw",
   "id": "9c19c815",
   "metadata": {},
   "source": [
    "Q7) Calculate Mean, Median, Mode, Variance, Standard Deviation, Range &comment about the values / draw inferences, for the given dataset\n",
    "  - For Points, Score, Weigh>\n",
    "    Find Mean, Median, Mode, Variance, Standard Deviation, and Range and also Comment about the           values/ Draw some inferences.\n",
    "Use Q7.csv file "
   ]
  },
  {
   "cell_type": "code",
   "execution_count": 17,
   "id": "89ed02c4",
   "metadata": {},
   "outputs": [],
   "source": [
    "import pandas as pd\n",
    "import numpy as np\n",
    "import matplotlib.pyplot as plt\n",
    "import seaborn as sns"
   ]
  },
  {
   "cell_type": "code",
   "execution_count": 18,
   "id": "6f9a0ec8",
   "metadata": {},
   "outputs": [],
   "source": [
    "data = pd.read_csv('Q7.csv')"
   ]
  },
  {
   "cell_type": "code",
   "execution_count": 19,
   "id": "e883efa3",
   "metadata": {},
   "outputs": [
    {
     "data": {
      "text/html": [
       "<div>\n",
       "<style scoped>\n",
       "    .dataframe tbody tr th:only-of-type {\n",
       "        vertical-align: middle;\n",
       "    }\n",
       "\n",
       "    .dataframe tbody tr th {\n",
       "        vertical-align: top;\n",
       "    }\n",
       "\n",
       "    .dataframe thead th {\n",
       "        text-align: right;\n",
       "    }\n",
       "</style>\n",
       "<table border=\"1\" class=\"dataframe\">\n",
       "  <thead>\n",
       "    <tr style=\"text-align: right;\">\n",
       "      <th></th>\n",
       "      <th>Unnamed: 0</th>\n",
       "      <th>Points</th>\n",
       "      <th>Score</th>\n",
       "      <th>Weigh</th>\n",
       "    </tr>\n",
       "  </thead>\n",
       "  <tbody>\n",
       "    <tr>\n",
       "      <th>27</th>\n",
       "      <td>Lotus Europa</td>\n",
       "      <td>3.77</td>\n",
       "      <td>1.513</td>\n",
       "      <td>16.9</td>\n",
       "    </tr>\n",
       "    <tr>\n",
       "      <th>28</th>\n",
       "      <td>Ford Pantera L</td>\n",
       "      <td>4.22</td>\n",
       "      <td>3.170</td>\n",
       "      <td>14.5</td>\n",
       "    </tr>\n",
       "    <tr>\n",
       "      <th>29</th>\n",
       "      <td>Ferrari Dino</td>\n",
       "      <td>3.62</td>\n",
       "      <td>2.770</td>\n",
       "      <td>15.5</td>\n",
       "    </tr>\n",
       "    <tr>\n",
       "      <th>30</th>\n",
       "      <td>Maserati Bora</td>\n",
       "      <td>3.54</td>\n",
       "      <td>3.570</td>\n",
       "      <td>14.6</td>\n",
       "    </tr>\n",
       "    <tr>\n",
       "      <th>31</th>\n",
       "      <td>Volvo 142E</td>\n",
       "      <td>4.11</td>\n",
       "      <td>2.780</td>\n",
       "      <td>18.6</td>\n",
       "    </tr>\n",
       "  </tbody>\n",
       "</table>\n",
       "</div>"
      ],
      "text/plain": [
       "        Unnamed: 0  Points  Score  Weigh\n",
       "27    Lotus Europa    3.77  1.513   16.9\n",
       "28  Ford Pantera L    4.22  3.170   14.5\n",
       "29    Ferrari Dino    3.62  2.770   15.5\n",
       "30   Maserati Bora    3.54  3.570   14.6\n",
       "31      Volvo 142E    4.11  2.780   18.6"
      ]
     },
     "execution_count": 19,
     "metadata": {},
     "output_type": "execute_result"
    }
   ],
   "source": [
    "data.tail()"
   ]
  },
  {
   "cell_type": "code",
   "execution_count": 20,
   "id": "ea6b354b",
   "metadata": {},
   "outputs": [],
   "source": [
    "#finding the mean of points,score,weigh"
   ]
  },
  {
   "cell_type": "code",
   "execution_count": 21,
   "id": "b47ce69e",
   "metadata": {},
   "outputs": [
    {
     "data": {
      "text/plain": [
       "3.5965625"
      ]
     },
     "execution_count": 21,
     "metadata": {},
     "output_type": "execute_result"
    }
   ],
   "source": [
    "data['Points'].mean()\n",
    "# the mean of points in dataset is 3.596"
   ]
  },
  {
   "cell_type": "code",
   "execution_count": 22,
   "id": "782323ca",
   "metadata": {},
   "outputs": [
    {
     "data": {
      "text/plain": [
       "3.2172500000000004"
      ]
     },
     "execution_count": 22,
     "metadata": {},
     "output_type": "execute_result"
    }
   ],
   "source": [
    "data['Score'].mean()\n",
    "# the mean of score in dataset is 3,217"
   ]
  },
  {
   "cell_type": "code",
   "execution_count": 23,
   "id": "57f4b422",
   "metadata": {},
   "outputs": [
    {
     "data": {
      "text/plain": [
       "17.848750000000003"
      ]
     },
     "execution_count": 23,
     "metadata": {},
     "output_type": "execute_result"
    }
   ],
   "source": [
    "data['Weigh'].mean()\n",
    "# the mean of weigh in dataset is 17.848"
   ]
  },
  {
   "cell_type": "code",
   "execution_count": 24,
   "id": "d4907578",
   "metadata": {},
   "outputs": [],
   "source": [
    "# finding the median of points,score,weigh"
   ]
  },
  {
   "cell_type": "code",
   "execution_count": 25,
   "id": "e65c35ea",
   "metadata": {},
   "outputs": [
    {
     "data": {
      "text/plain": [
       "3.6950000000000003"
      ]
     },
     "execution_count": 25,
     "metadata": {},
     "output_type": "execute_result"
    }
   ],
   "source": [
    "data['Points'].median()\n",
    "# the median of points in data is 3.695"
   ]
  },
  {
   "cell_type": "code",
   "execution_count": 26,
   "id": "4fdf6b37",
   "metadata": {},
   "outputs": [
    {
     "data": {
      "text/plain": [
       "3.325"
      ]
     },
     "execution_count": 26,
     "metadata": {},
     "output_type": "execute_result"
    }
   ],
   "source": [
    "data['Score'].median()\n",
    "# the median of Score in data is 3.325"
   ]
  },
  {
   "cell_type": "code",
   "execution_count": 27,
   "id": "0ffbf632",
   "metadata": {},
   "outputs": [
    {
     "data": {
      "text/plain": [
       "17.71"
      ]
     },
     "execution_count": 27,
     "metadata": {},
     "output_type": "execute_result"
    }
   ],
   "source": [
    "data['Weigh'].median()\n",
    "# the median of Weigh in data is 17.71"
   ]
  },
  {
   "cell_type": "code",
   "execution_count": 28,
   "id": "7f0b9741",
   "metadata": {},
   "outputs": [],
   "source": [
    "# finding the mode of points,score,weigh"
   ]
  },
  {
   "cell_type": "code",
   "execution_count": 29,
   "id": "f339f99b",
   "metadata": {},
   "outputs": [
    {
     "data": {
      "text/plain": [
       "0    3.07\n",
       "1    3.92\n",
       "Name: Points, dtype: float64"
      ]
     },
     "execution_count": 29,
     "metadata": {},
     "output_type": "execute_result"
    }
   ],
   "source": [
    "data['Points'].mode()\n",
    "# the mode of points in data is 3.07 in 0 and 3.92 at 1 index position"
   ]
  },
  {
   "cell_type": "code",
   "execution_count": 30,
   "id": "a119249c",
   "metadata": {},
   "outputs": [
    {
     "data": {
      "text/plain": [
       "0    3.44\n",
       "Name: Score, dtype: float64"
      ]
     },
     "execution_count": 30,
     "metadata": {},
     "output_type": "execute_result"
    }
   ],
   "source": [
    "data['Score'].mode()\n",
    "# the mode of score in data is 3.44"
   ]
  },
  {
   "cell_type": "code",
   "execution_count": 31,
   "id": "46f18e63",
   "metadata": {},
   "outputs": [
    {
     "data": {
      "text/plain": [
       "0    17.02\n",
       "1    18.90\n",
       "Name: Weigh, dtype: float64"
      ]
     },
     "execution_count": 31,
     "metadata": {},
     "output_type": "execute_result"
    }
   ],
   "source": [
    "data['Weigh'].mode()\n",
    "# the mode of weigh in data is 17.02 at 0 and 18.90 at 1 index position."
   ]
  },
  {
   "cell_type": "code",
   "execution_count": 32,
   "id": "1aa4526e",
   "metadata": {},
   "outputs": [],
   "source": [
    "# finding the variance for the points,score,weigh"
   ]
  },
  {
   "cell_type": "code",
   "execution_count": 33,
   "id": "21298376",
   "metadata": {},
   "outputs": [
    {
     "data": {
      "text/plain": [
       "0.28588135080645166"
      ]
     },
     "execution_count": 33,
     "metadata": {},
     "output_type": "execute_result"
    }
   ],
   "source": [
    "data['Points'].var()\n",
    "# the variance of points in data is 0.285"
   ]
  },
  {
   "cell_type": "code",
   "execution_count": 34,
   "id": "577f1627",
   "metadata": {},
   "outputs": [
    {
     "data": {
      "text/plain": [
       "0.9573789677419356"
      ]
     },
     "execution_count": 34,
     "metadata": {},
     "output_type": "execute_result"
    }
   ],
   "source": [
    "data['Score'].var()\n",
    "# the variance of score in data is 0.957"
   ]
  },
  {
   "cell_type": "code",
   "execution_count": 35,
   "id": "4a437ca7",
   "metadata": {},
   "outputs": [
    {
     "data": {
      "text/plain": [
       "3.193166129032258"
      ]
     },
     "execution_count": 35,
     "metadata": {},
     "output_type": "execute_result"
    }
   ],
   "source": [
    "data['Weigh'].var()\n",
    "# the variance of Weigh in data is 3.193"
   ]
  },
  {
   "cell_type": "code",
   "execution_count": 36,
   "id": "0802de74",
   "metadata": {},
   "outputs": [],
   "source": [
    "#finding the standard deviation of points,score,weight in dataset"
   ]
  },
  {
   "cell_type": "code",
   "execution_count": 37,
   "id": "ee88c05f",
   "metadata": {},
   "outputs": [
    {
     "data": {
      "text/plain": [
       "0.5346787360709716"
      ]
     },
     "execution_count": 37,
     "metadata": {},
     "output_type": "execute_result"
    }
   ],
   "source": [
    "data['Points'].std()\n",
    "# the standard deviation of points in data is 0.535"
   ]
  },
  {
   "cell_type": "code",
   "execution_count": 38,
   "id": "a9e8cafe",
   "metadata": {},
   "outputs": [
    {
     "data": {
      "text/plain": [
       "0.9784574429896967"
      ]
     },
     "execution_count": 38,
     "metadata": {},
     "output_type": "execute_result"
    }
   ],
   "source": [
    "data['Score'].std()\n",
    "# the standard deviation of Score in data is 0.978"
   ]
  },
  {
   "cell_type": "code",
   "execution_count": 39,
   "id": "370e3229",
   "metadata": {},
   "outputs": [
    {
     "data": {
      "text/plain": [
       "1.7869432360968431"
      ]
     },
     "execution_count": 39,
     "metadata": {},
     "output_type": "execute_result"
    }
   ],
   "source": [
    "data['Weigh'].std()\n",
    "# the standard deviation of Weigh in data is 1.786"
   ]
  },
  {
   "cell_type": "code",
   "execution_count": 40,
   "id": "a1f05b56",
   "metadata": {},
   "outputs": [
    {
     "data": {
      "text/plain": [
       "31"
      ]
     },
     "execution_count": 40,
     "metadata": {},
     "output_type": "execute_result"
    }
   ],
   "source": [
    "n=32\n",
    "range = n-1\n",
    "range"
   ]
  },
  {
   "cell_type": "code",
   "execution_count": 41,
   "id": "642f133c",
   "metadata": {},
   "outputs": [
    {
     "data": {
      "text/html": [
       "<div>\n",
       "<style scoped>\n",
       "    .dataframe tbody tr th:only-of-type {\n",
       "        vertical-align: middle;\n",
       "    }\n",
       "\n",
       "    .dataframe tbody tr th {\n",
       "        vertical-align: top;\n",
       "    }\n",
       "\n",
       "    .dataframe thead th {\n",
       "        text-align: right;\n",
       "    }\n",
       "</style>\n",
       "<table border=\"1\" class=\"dataframe\">\n",
       "  <thead>\n",
       "    <tr style=\"text-align: right;\">\n",
       "      <th></th>\n",
       "      <th>Points</th>\n",
       "      <th>Score</th>\n",
       "      <th>Weigh</th>\n",
       "    </tr>\n",
       "  </thead>\n",
       "  <tbody>\n",
       "    <tr>\n",
       "      <th>count</th>\n",
       "      <td>32.000000</td>\n",
       "      <td>32.000000</td>\n",
       "      <td>32.000000</td>\n",
       "    </tr>\n",
       "    <tr>\n",
       "      <th>mean</th>\n",
       "      <td>3.596563</td>\n",
       "      <td>3.217250</td>\n",
       "      <td>17.848750</td>\n",
       "    </tr>\n",
       "    <tr>\n",
       "      <th>std</th>\n",
       "      <td>0.534679</td>\n",
       "      <td>0.978457</td>\n",
       "      <td>1.786943</td>\n",
       "    </tr>\n",
       "    <tr>\n",
       "      <th>min</th>\n",
       "      <td>2.760000</td>\n",
       "      <td>1.513000</td>\n",
       "      <td>14.500000</td>\n",
       "    </tr>\n",
       "    <tr>\n",
       "      <th>25%</th>\n",
       "      <td>3.080000</td>\n",
       "      <td>2.581250</td>\n",
       "      <td>16.892500</td>\n",
       "    </tr>\n",
       "    <tr>\n",
       "      <th>50%</th>\n",
       "      <td>3.695000</td>\n",
       "      <td>3.325000</td>\n",
       "      <td>17.710000</td>\n",
       "    </tr>\n",
       "    <tr>\n",
       "      <th>75%</th>\n",
       "      <td>3.920000</td>\n",
       "      <td>3.610000</td>\n",
       "      <td>18.900000</td>\n",
       "    </tr>\n",
       "    <tr>\n",
       "      <th>max</th>\n",
       "      <td>4.930000</td>\n",
       "      <td>5.424000</td>\n",
       "      <td>22.900000</td>\n",
       "    </tr>\n",
       "  </tbody>\n",
       "</table>\n",
       "</div>"
      ],
      "text/plain": [
       "          Points      Score      Weigh\n",
       "count  32.000000  32.000000  32.000000\n",
       "mean    3.596563   3.217250  17.848750\n",
       "std     0.534679   0.978457   1.786943\n",
       "min     2.760000   1.513000  14.500000\n",
       "25%     3.080000   2.581250  16.892500\n",
       "50%     3.695000   3.325000  17.710000\n",
       "75%     3.920000   3.610000  18.900000\n",
       "max     4.930000   5.424000  22.900000"
      ]
     },
     "execution_count": 41,
     "metadata": {},
     "output_type": "execute_result"
    }
   ],
   "source": [
    "data.describe()"
   ]
  },
  {
   "cell_type": "code",
   "execution_count": 42,
   "id": "402adb5d",
   "metadata": {},
   "outputs": [
    {
     "data": {
      "image/png": "[encoded data removed]",
      "text/plain": [
       "<Figure size 640x480 with 1 Axes>"
      ]
     },
     "metadata": {},
     "output_type": "display_data"
    }
   ],
   "source": [
    "plt.boxplot(data[['Points','Score','Weigh']]);\n"
   ]
  },
  {
   "cell_type": "code",
   "execution_count": 43,
   "id": "280ff7f0",
   "metadata": {},
   "outputs": [
    {
     "data": {
      "image/png": "[encoded data removed]",
      "text/plain": [
       "<Figure size 640x480 with 1 Axes>"
      ]
     },
     "metadata": {},
     "output_type": "display_data"
    }
   ],
   "source": [
    "plt.plot(data[['Points','Score','Weigh']]);\n",
    "#green=Weigh\n",
    "#Orange=Score\n",
    "#blue=Points"
   ]
  },
  {
   "cell_type": "markdown",
   "id": "5f888890",
   "metadata": {},
   "source": [
    "## Question 8"
   ]
  },
  {
   "cell_type": "markdown",
   "id": "b9f7fa81",
   "metadata": {},
   "source": [
    "Q8) Calculate the Expected Value for the problem below\n",
    "a)\tThe weights (X) of patients at a clinic (in pounds), are\n",
    "108, 110, 123, 134, 135, 145, 167, 187, 199\n",
    "Assume one of the patients is chosen at random. What is the Expected Value of the Weight of that patient?\n",
    "\n"
   ]
  },
  {
   "cell_type": "code",
   "execution_count": 44,
   "id": "20aee412",
   "metadata": {},
   "outputs": [],
   "source": [
    "# the formula for expected value = sum of total weights / no of patients\n",
    "# total no of patients = 9"
   ]
  },
  {
   "cell_type": "code",
   "execution_count": 45,
   "id": "f00d48be",
   "metadata": {},
   "outputs": [],
   "source": [
    "totalweight = 108+110+123+134+135+145+167+187+199"
   ]
  },
  {
   "cell_type": "code",
   "execution_count": 46,
   "id": "792af4c9",
   "metadata": {},
   "outputs": [
    {
     "data": {
      "text/plain": [
       "1308"
      ]
     },
     "execution_count": 46,
     "metadata": {},
     "output_type": "execute_result"
    }
   ],
   "source": [
    "totalweight"
   ]
  },
  {
   "cell_type": "code",
   "execution_count": 47,
   "id": "ec71d7fc",
   "metadata": {},
   "outputs": [],
   "source": [
    "n = 9"
   ]
  },
  {
   "cell_type": "code",
   "execution_count": 48,
   "id": "9b3dea37",
   "metadata": {},
   "outputs": [],
   "source": [
    "expectedweight = totalweight/n"
   ]
  },
  {
   "cell_type": "code",
   "execution_count": 49,
   "id": "b720b443",
   "metadata": {},
   "outputs": [
    {
     "data": {
      "text/plain": [
       "145.33333333333334"
      ]
     },
     "execution_count": 49,
     "metadata": {},
     "output_type": "execute_result"
    }
   ],
   "source": [
    "expectedweight"
   ]
  },
  {
   "cell_type": "raw",
   "id": "23c004c1",
   "metadata": {},
   "source": [
    "So, the expected value of the weight of a randomly chosen patient from the clinic is approximately 145.33 pounds."
   ]
  },
  {
   "cell_type": "markdown",
   "id": "67877cd6",
   "metadata": {},
   "source": [
    "## Quesiton 9"
   ]
  },
  {
   "cell_type": "markdown",
   "id": "25b54f94",
   "metadata": {},
   "source": [
    " Q9) Calculate Skewness, Kurtosis & draw inferences on the following data\n",
    "      Cars speed and distance \n"
   ]
  },
  {
   "cell_type": "code",
   "execution_count": 50,
   "id": "eb3e29a7",
   "metadata": {},
   "outputs": [],
   "source": [
    "from scipy.stats import skew"
   ]
  },
  {
   "cell_type": "code",
   "execution_count": 51,
   "id": "997526f6",
   "metadata": {},
   "outputs": [],
   "source": [
    "carsdata = pd.read_csv('Q9_a.csv')"
   ]
  },
  {
   "cell_type": "code",
   "execution_count": 52,
   "id": "bd26862d",
   "metadata": {},
   "outputs": [
    {
     "data": {
      "text/html": [
       "<div>\n",
       "<style scoped>\n",
       "    .dataframe tbody tr th:only-of-type {\n",
       "        vertical-align: middle;\n",
       "    }\n",
       "\n",
       "    .dataframe tbody tr th {\n",
       "        vertical-align: top;\n",
       "    }\n",
       "\n",
       "    .dataframe thead th {\n",
       "        text-align: right;\n",
       "    }\n",
       "</style>\n",
       "<table border=\"1\" class=\"dataframe\">\n",
       "  <thead>\n",
       "    <tr style=\"text-align: right;\">\n",
       "      <th></th>\n",
       "      <th>Index</th>\n",
       "      <th>speed</th>\n",
       "      <th>dist</th>\n",
       "    </tr>\n",
       "  </thead>\n",
       "  <tbody>\n",
       "    <tr>\n",
       "      <th>45</th>\n",
       "      <td>46</td>\n",
       "      <td>24</td>\n",
       "      <td>70</td>\n",
       "    </tr>\n",
       "    <tr>\n",
       "      <th>46</th>\n",
       "      <td>47</td>\n",
       "      <td>24</td>\n",
       "      <td>92</td>\n",
       "    </tr>\n",
       "    <tr>\n",
       "      <th>47</th>\n",
       "      <td>48</td>\n",
       "      <td>24</td>\n",
       "      <td>93</td>\n",
       "    </tr>\n",
       "    <tr>\n",
       "      <th>48</th>\n",
       "      <td>49</td>\n",
       "      <td>24</td>\n",
       "      <td>120</td>\n",
       "    </tr>\n",
       "    <tr>\n",
       "      <th>49</th>\n",
       "      <td>50</td>\n",
       "      <td>25</td>\n",
       "      <td>85</td>\n",
       "    </tr>\n",
       "  </tbody>\n",
       "</table>\n",
       "</div>"
      ],
      "text/plain": [
       "    Index  speed  dist\n",
       "45     46     24    70\n",
       "46     47     24    92\n",
       "47     48     24    93\n",
       "48     49     24   120\n",
       "49     50     25    85"
      ]
     },
     "execution_count": 52,
     "metadata": {},
     "output_type": "execute_result"
    }
   ],
   "source": [
    "carsdata.tail()"
   ]
  },
  {
   "cell_type": "code",
   "execution_count": 53,
   "id": "7e7c6196",
   "metadata": {
    "scrolled": false
   },
   "outputs": [
    {
     "data": {
      "text/plain": [
       "-0.11750986144663393"
      ]
     },
     "execution_count": 53,
     "metadata": {},
     "output_type": "execute_result"
    }
   ],
   "source": [
    "carsdata['speed'].skew()"
   ]
  },
  {
   "cell_type": "code",
   "execution_count": 54,
   "id": "3b731026",
   "metadata": {},
   "outputs": [
    {
     "data": {
      "text/plain": [
       "-0.5089944204057617"
      ]
     },
     "execution_count": 54,
     "metadata": {},
     "output_type": "execute_result"
    }
   ],
   "source": [
    "carsdata['speed'].kurtosis()"
   ]
  },
  {
   "cell_type": "code",
   "execution_count": 55,
   "id": "3e95f723",
   "metadata": {
    "scrolled": false
   },
   "outputs": [
    {
     "data": {
      "text/plain": [
       "<AxesSubplot:xlabel='speed', ylabel='Count'>"
      ]
     },
     "execution_count": 55,
     "metadata": {},
     "output_type": "execute_result"
    },
    {
     "data": {
      "image/png": "[encoded data removed]",
      "text/plain": [
       "<Figure size 640x480 with 1 Axes>"
      ]
     },
     "metadata": {},
     "output_type": "display_data"
    }
   ],
   "source": [
    "sns.histplot(carsdata['speed'],bins=15,line_kws=carsdata['speed'])"
   ]
  },
  {
   "cell_type": "markdown",
   "id": "9214a013",
   "metadata": {},
   "source": [
    "#the graph has more mass storange in the right side so the skewness is negative and the higher peaks so the kurtosis is also negative"
   ]
  },
  {
   "cell_type": "code",
   "execution_count": 56,
   "id": "7db3e97e",
   "metadata": {},
   "outputs": [
    {
     "data": {
      "text/plain": [
       "0.4050525816795765"
      ]
     },
     "execution_count": 56,
     "metadata": {},
     "output_type": "execute_result"
    }
   ],
   "source": [
    "carsdata['dist'].kurtosis()"
   ]
  },
  {
   "cell_type": "code",
   "execution_count": 57,
   "id": "f73a0b9e",
   "metadata": {},
   "outputs": [
    {
     "data": {
      "text/plain": [
       "0.8068949601674215"
      ]
     },
     "execution_count": 57,
     "metadata": {},
     "output_type": "execute_result"
    }
   ],
   "source": [
    "carsdata['dist'].skew()"
   ]
  },
  {
   "cell_type": "code",
   "execution_count": 58,
   "id": "9a4f2b7a",
   "metadata": {},
   "outputs": [
    {
     "data": {
      "text/plain": [
       "<AxesSubplot:xlabel='dist', ylabel='Count'>"
      ]
     },
     "execution_count": 58,
     "metadata": {},
     "output_type": "execute_result"
    },
    {
     "data": {
      "image/png": "[encoded data removed]",
      "text/plain": [
       "<Figure size 640x480 with 1 Axes>"
      ]
     },
     "metadata": {},
     "output_type": "display_data"
    }
   ],
   "source": [
    "sns.histplot(carsdata['dist'],bins=15)"
   ]
  },
  {
   "cell_type": "markdown",
   "id": "6aa78ae3",
   "metadata": {},
   "source": [
    "the graph has more storage in the left side so the skewness is positive and there are higher peaks so that the kurtosis is also positive"
   ]
  },
  {
   "cell_type": "markdown",
   "id": "808ff15c",
   "metadata": {},
   "source": [
    "#### b) SP and Weight(WT)\n",
    "Use Q9_b.csv\n"
   ]
  },
  {
   "cell_type": "code",
   "execution_count": 59,
   "id": "7bd1fb70",
   "metadata": {},
   "outputs": [],
   "source": [
    "cars2 = pd.read_csv('Q9_b.csv')"
   ]
  },
  {
   "cell_type": "code",
   "execution_count": 60,
   "id": "af32f3fa",
   "metadata": {},
   "outputs": [
    {
     "data": {
      "text/html": [
       "<div>\n",
       "<style scoped>\n",
       "    .dataframe tbody tr th:only-of-type {\n",
       "        vertical-align: middle;\n",
       "    }\n",
       "\n",
       "    .dataframe tbody tr th {\n",
       "        vertical-align: top;\n",
       "    }\n",
       "\n",
       "    .dataframe thead th {\n",
       "        text-align: right;\n",
       "    }\n",
       "</style>\n",
       "<table border=\"1\" class=\"dataframe\">\n",
       "  <thead>\n",
       "    <tr style=\"text-align: right;\">\n",
       "      <th></th>\n",
       "      <th>Unnamed: 0</th>\n",
       "      <th>SP</th>\n",
       "      <th>WT</th>\n",
       "    </tr>\n",
       "  </thead>\n",
       "  <tbody>\n",
       "    <tr>\n",
       "      <th>0</th>\n",
       "      <td>1</td>\n",
       "      <td>104.185353</td>\n",
       "      <td>28.762059</td>\n",
       "    </tr>\n",
       "    <tr>\n",
       "      <th>1</th>\n",
       "      <td>2</td>\n",
       "      <td>105.461264</td>\n",
       "      <td>30.466833</td>\n",
       "    </tr>\n",
       "    <tr>\n",
       "      <th>2</th>\n",
       "      <td>3</td>\n",
       "      <td>105.461264</td>\n",
       "      <td>30.193597</td>\n",
       "    </tr>\n",
       "    <tr>\n",
       "      <th>3</th>\n",
       "      <td>4</td>\n",
       "      <td>113.461264</td>\n",
       "      <td>30.632114</td>\n",
       "    </tr>\n",
       "    <tr>\n",
       "      <th>4</th>\n",
       "      <td>5</td>\n",
       "      <td>104.461264</td>\n",
       "      <td>29.889149</td>\n",
       "    </tr>\n",
       "  </tbody>\n",
       "</table>\n",
       "</div>"
      ],
      "text/plain": [
       "   Unnamed: 0          SP         WT\n",
       "0           1  104.185353  28.762059\n",
       "1           2  105.461264  30.466833\n",
       "2           3  105.461264  30.193597\n",
       "3           4  113.461264  30.632114\n",
       "4           5  104.461264  29.889149"
      ]
     },
     "execution_count": 60,
     "metadata": {},
     "output_type": "execute_result"
    }
   ],
   "source": [
    "cars2.head()"
   ]
  },
  {
   "cell_type": "code",
   "execution_count": 61,
   "id": "772b97e7",
   "metadata": {},
   "outputs": [
    {
     "data": {
      "text/plain": [
       "1.6114501961773586"
      ]
     },
     "execution_count": 61,
     "metadata": {},
     "output_type": "execute_result"
    }
   ],
   "source": [
    "cars2['SP'].skew()"
   ]
  },
  {
   "cell_type": "code",
   "execution_count": 62,
   "id": "111281d0",
   "metadata": {},
   "outputs": [
    {
     "data": {
      "text/plain": [
       "2.9773289437871835"
      ]
     },
     "execution_count": 62,
     "metadata": {},
     "output_type": "execute_result"
    }
   ],
   "source": [
    "cars2['SP'].kurtosis()"
   ]
  },
  {
   "cell_type": "code",
   "execution_count": 63,
   "id": "2856efa4",
   "metadata": {},
   "outputs": [
    {
     "data": {
      "text/plain": [
       "<AxesSubplot:xlabel='SP', ylabel='Count'>"
      ]
     },
     "execution_count": 63,
     "metadata": {},
     "output_type": "execute_result"
    },
    {
     "data": {
      "image/png": "[encoded data removed]",
      "text/plain": [
       "<Figure size 640x480 with 1 Axes>"
      ]
     },
     "metadata": {},
     "output_type": "display_data"
    }
   ],
   "source": [
    "sns.histplot(cars2['SP'])"
   ]
  },
  {
   "cell_type": "markdown",
   "id": "bbf25c20",
   "metadata": {},
   "source": [
    "the figure has the more data in the left side so that the skewness is positive and the peakedness is high so the kurtosis is also positive"
   ]
  },
  {
   "cell_type": "code",
   "execution_count": 64,
   "id": "93e44bb1",
   "metadata": {},
   "outputs": [
    {
     "data": {
      "text/plain": [
       "-0.6147533255357768"
      ]
     },
     "execution_count": 64,
     "metadata": {},
     "output_type": "execute_result"
    }
   ],
   "source": [
    "cars2['WT'].skew()"
   ]
  },
  {
   "cell_type": "code",
   "execution_count": 65,
   "id": "38dcaf38",
   "metadata": {},
   "outputs": [
    {
     "data": {
      "text/plain": [
       "0.9502914910300326"
      ]
     },
     "execution_count": 65,
     "metadata": {},
     "output_type": "execute_result"
    }
   ],
   "source": [
    "cars2['WT'].kurtosis()"
   ]
  },
  {
   "cell_type": "code",
   "execution_count": 66,
   "id": "d8f60bc9",
   "metadata": {},
   "outputs": [
    {
     "data": {
      "text/plain": [
       "<AxesSubplot:xlabel='WT', ylabel='Count'>"
      ]
     },
     "execution_count": 66,
     "metadata": {},
     "output_type": "execute_result"
    },
    {
     "data": {
      "image/png": "[encoded data removed]",
      "text/plain": [
       "<Figure size 640x480 with 1 Axes>"
      ]
     },
     "metadata": {},
     "output_type": "display_data"
    }
   ],
   "source": [
    "sns.histplot(cars2['WT'])"
   ]
  },
  {
   "cell_type": "markdown",
   "id": "b4934130",
   "metadata": {},
   "source": [
    "the figure has more no of data in the right side of the data so the skewness is negative and the peakedness is stable so the kurtosis is positive"
   ]
  },
  {
   "cell_type": "markdown",
   "id": "6f7f807a",
   "metadata": {},
   "source": [
    "## Quesiton 10"
   ]
  },
  {
   "cell_type": "markdown",
   "id": "a338cd09",
   "metadata": {},
   "source": [
    "#### Q10) Draw inferences about the following boxplot & histogram"
   ]
  },
  {
   "cell_type": "markdown",
   "id": "a69bb133",
   "metadata": {},
   "source": [
    "According to box plot the data is concentrated in left side so the histogram is positively skewed and mean is in between 50 to 100. And according to box plot the data is concentrated downwards and Q2 - Q1 < Q3 - Q2 which shows positive skewness and has some outliers at which are greater than Q4."
   ]
  },
  {
   "cell_type": "markdown",
   "id": "ecf14e97",
   "metadata": {},
   "source": [
    "## Question 11"
   ]
  },
  {
   "cell_type": "markdown",
   "id": "9788fdd8",
   "metadata": {},
   "source": [
    "Q11)  Suppose we want to estimate the average weight of an adult male in    Mexico. We draw a random sample of 2,000 men from a population of 3,000,000 men and weigh them. We find that the average person in our sample weighs 200 pounds, and the standard deviation of the sample is 30 pounds. Calculate 94%,98%,96% confidence interval?"
   ]
  },
  {
   "cell_type": "code",
   "execution_count": 72,
   "id": "78d6971d",
   "metadata": {},
   "outputs": [],
   "source": [
    "import scipy.stats as stats\n",
    "import math"
   ]
  },
  {
   "cell_type": "code",
   "execution_count": 73,
   "id": "999d4d1e",
   "metadata": {},
   "outputs": [],
   "source": [
    "samplemean = 200\n",
    "stddev = 30\n",
    "samplesize= 2000"
   ]
  },
  {
   "cell_type": "code",
   "execution_count": 74,
   "id": "79017490",
   "metadata": {},
   "outputs": [
    {
     "data": {
      "text/plain": [
       "1.8915752643536046"
      ]
     },
     "execution_count": 74,
     "metadata": {},
     "output_type": "execute_result"
    }
   ],
   "source": [
    "#confidence interval of 94% is 100-94 = 0.06\n",
    "t94 = stats.t.ppf(1-0.06/2,199)\n",
    "t94"
   ]
  },
  {
   "cell_type": "code",
   "execution_count": 75,
   "id": "c1459e6f",
   "metadata": {},
   "outputs": [],
   "source": [
    "# formula = samplemean +- t*(stddev)/sqrt(samplesize)"
   ]
  },
  {
   "cell_type": "code",
   "execution_count": 76,
   "id": "7c750b42",
   "metadata": {},
   "outputs": [
    {
     "data": {
      "text/plain": [
       "198.73109273730446"
      ]
     },
     "execution_count": 76,
     "metadata": {},
     "output_type": "execute_result"
    }
   ],
   "source": [
    "samplemean - t94*stddev/math.sqrt(samplesize)"
   ]
  },
  {
   "cell_type": "code",
   "execution_count": 77,
   "id": "8d46c2b1",
   "metadata": {},
   "outputs": [
    {
     "data": {
      "text/plain": [
       "201.26890726269554"
      ]
     },
     "execution_count": 77,
     "metadata": {},
     "output_type": "execute_result"
    }
   ],
   "source": [
    "samplemean + t94*stddev/math.sqrt(samplesize)"
   ]
  },
  {
   "cell_type": "markdown",
   "id": "eb67546a",
   "metadata": {},
   "source": [
    "the t score lies between 198.952 and 201.047 for the 94% confidence interval"
   ]
  },
  {
   "cell_type": "code",
   "execution_count": 78,
   "id": "f8c3f8b2",
   "metadata": {},
   "outputs": [],
   "source": [
    "## confidence interval of 98% is 100-98% = 2 = 0.02"
   ]
  },
  {
   "cell_type": "code",
   "execution_count": 79,
   "id": "022b77e0",
   "metadata": {},
   "outputs": [
    {
     "data": {
      "text/plain": [
       "2.3452322311103635"
      ]
     },
     "execution_count": 79,
     "metadata": {},
     "output_type": "execute_result"
    }
   ],
   "source": [
    "t98 = stats.t.ppf(1-0.02/2,199)\n",
    "t98"
   ]
  },
  {
   "cell_type": "code",
   "execution_count": 80,
   "id": "7d428355",
   "metadata": {},
   "outputs": [
    {
     "data": {
      "text/plain": [
       "198.4267703924641"
      ]
     },
     "execution_count": 80,
     "metadata": {},
     "output_type": "execute_result"
    }
   ],
   "source": [
    "samplemean - t98*stddev/math.sqrt(samplesize)"
   ]
  },
  {
   "cell_type": "code",
   "execution_count": 81,
   "id": "459adffe",
   "metadata": {},
   "outputs": [
    {
     "data": {
      "text/plain": [
       "201.5732296075359"
      ]
     },
     "execution_count": 81,
     "metadata": {},
     "output_type": "execute_result"
    }
   ],
   "source": [
    "samplemean + t98*stddev/math.sqrt(samplesize)"
   ]
  },
  {
   "cell_type": "markdown",
   "id": "0bc67df2",
   "metadata": {},
   "source": [
    " the t score lies between 198.613 and 201.386 for the 98% confidence interval"
   ]
  },
  {
   "cell_type": "code",
   "execution_count": 82,
   "id": "eb257713",
   "metadata": {},
   "outputs": [],
   "source": [
    "## calculating for the 96% interval is 100-96 = 4 = 0.04"
   ]
  },
  {
   "cell_type": "code",
   "execution_count": 83,
   "id": "718a03f8",
   "metadata": {},
   "outputs": [
    {
     "data": {
      "text/plain": [
       "2.0672980586278507"
      ]
     },
     "execution_count": 83,
     "metadata": {},
     "output_type": "execute_result"
    }
   ],
   "source": [
    "t96 = stats.t.ppf(1-0.04/2,199)\n",
    "t96"
   ]
  },
  {
   "cell_type": "code",
   "execution_count": 84,
   "id": "cfd049b1",
   "metadata": {},
   "outputs": [
    {
     "data": {
      "text/plain": [
       "198.61321430334644"
      ]
     },
     "execution_count": 84,
     "metadata": {},
     "output_type": "execute_result"
    }
   ],
   "source": [
    "samplemean - t96*stddev/math.sqrt(samplesize)"
   ]
  },
  {
   "cell_type": "code",
   "execution_count": 85,
   "id": "03a9fd82",
   "metadata": {},
   "outputs": [
    {
     "data": {
      "text/plain": [
       "201.38678569665356"
      ]
     },
     "execution_count": 85,
     "metadata": {},
     "output_type": "execute_result"
    }
   ],
   "source": [
    "samplemean + t96*stddev/math.sqrt(samplesize)"
   ]
  },
  {
   "cell_type": "markdown",
   "id": "27f4b6f3",
   "metadata": {},
   "source": [
    "the 96% of the confidence interval lies b/w  (198.613 - 201.386)"
   ]
  },
  {
   "cell_type": "markdown",
   "id": "fb16190c",
   "metadata": {},
   "source": [
    "## Question 12"
   ]
  },
  {
   "cell_type": "raw",
   "id": "d1f13666",
   "metadata": {},
   "source": [
    "Q12)  Below are the scores obtained by a student in tests \n",
    "34,36,36,38,38,39,39,40,40,41,41,41,41,42,42,45,49,56\n",
    "1)\tFind mean, median, variance, standard deviation.\n",
    "2)\tWhat can we say about the student marks? \n",
    "\n"
   ]
  },
  {
   "cell_type": "code",
   "execution_count": 86,
   "id": "9811707c",
   "metadata": {},
   "outputs": [],
   "source": [
    "marks = [34,36,36,38,38,39,39,40,40,41,41,41,41,42,42,45,49,56]"
   ]
  },
  {
   "cell_type": "code",
   "execution_count": 87,
   "id": "0c87b93b",
   "metadata": {},
   "outputs": [
    {
     "data": {
      "text/plain": [
       "41.0"
      ]
     },
     "execution_count": 87,
     "metadata": {},
     "output_type": "execute_result"
    }
   ],
   "source": [
    "mean_marks=np.mean(marks)\n",
    "mean_marks"
   ]
  },
  {
   "cell_type": "code",
   "execution_count": 88,
   "id": "4a819f90",
   "metadata": {},
   "outputs": [
    {
     "data": {
      "text/plain": [
       "40.5"
      ]
     },
     "execution_count": 88,
     "metadata": {},
     "output_type": "execute_result"
    }
   ],
   "source": [
    "median_marks=np.median(marks)\n",
    "median_marks"
   ]
  },
  {
   "cell_type": "code",
   "execution_count": 89,
   "id": "20a27679",
   "metadata": {},
   "outputs": [
    {
     "data": {
      "text/plain": [
       "24.11111111111111"
      ]
     },
     "execution_count": 89,
     "metadata": {},
     "output_type": "execute_result"
    }
   ],
   "source": [
    "var_marks=np.var(marks)\n",
    "var_marks"
   ]
  },
  {
   "cell_type": "code",
   "execution_count": 90,
   "id": "35ad0a4d",
   "metadata": {},
   "outputs": [
    {
     "data": {
      "text/plain": [
       "4.910306620885412"
      ]
     },
     "execution_count": 90,
     "metadata": {},
     "output_type": "execute_result"
    }
   ],
   "source": [
    "stdev_marks = np.std(marks)\n",
    "stdev_marks"
   ]
  },
  {
   "cell_type": "code",
   "execution_count": 91,
   "id": "c7960141",
   "metadata": {},
   "outputs": [
    {
     "data": {
      "text/plain": [
       "<AxesSubplot:ylabel='Count'>"
      ]
     },
     "execution_count": 91,
     "metadata": {},
     "output_type": "execute_result"
    },
    {
     "data": {
      "image/png": "[encoded data removed]",
      "text/plain": [
       "<Figure size 640x480 with 1 Axes>"
      ]
     },
     "metadata": {},
     "output_type": "display_data"
    }
   ],
   "source": [
    "sns.histplot(marks,bins=15)"
   ]
  },
  {
   "cell_type": "code",
   "execution_count": 92,
   "id": "ce0a029d",
   "metadata": {},
   "outputs": [
    {
     "data": {
      "text/plain": [
       "0    1.686841\n",
       "dtype: float64"
      ]
     },
     "execution_count": 92,
     "metadata": {},
     "output_type": "execute_result"
    }
   ],
   "source": [
    "marksdf = pd.DataFrame(data=marks)\n",
    "marksdf.skew()"
   ]
  },
  {
   "cell_type": "code",
   "execution_count": 93,
   "id": "2f736df8",
   "metadata": {},
   "outputs": [
    {
     "data": {
      "text/plain": [
       "0    3.953279\n",
       "dtype: float64"
      ]
     },
     "execution_count": 93,
     "metadata": {},
     "output_type": "execute_result"
    }
   ],
   "source": [
    "marksdf.kurtosis()"
   ]
  },
  {
   "cell_type": "markdown",
   "id": "df322124",
   "metadata": {},
   "source": [
    "from the above and diagram we can say that the no of students who scored b/w 40-45 are 9 and 45-50 are 1, and 50-55 are 1 and 35-40 are 6 and below 35 or equal 35 are 1, and the skewness stands and 1.686 and kurtosis at 3.954 which are positive"
   ]
  },
  {
   "cell_type": "markdown",
   "id": "4022382e",
   "metadata": {},
   "source": [
    "## Question 13"
   ]
  },
  {
   "cell_type": "code",
   "execution_count": 94,
   "id": "ac288ea3",
   "metadata": {},
   "outputs": [],
   "source": [
    "#Q13) What is the nature of skewness when mean, median of data are equal?\n"
   ]
  },
  {
   "cell_type": "markdown",
   "id": "df09d2c0",
   "metadata": {},
   "source": [
    "when the mean and median are equal that suggest that the dataset is equal and equally balanced so the Skewness will be Zero and the plot will be symmetric\n",
    "\n",
    "Distibution is symmetric\n",
    "Skewness is Zero"
   ]
  },
  {
   "cell_type": "markdown",
   "id": "ca62f3f6",
   "metadata": {},
   "source": [
    "## Question 14"
   ]
  },
  {
   "cell_type": "code",
   "execution_count": 95,
   "id": "2704e4f8",
   "metadata": {},
   "outputs": [],
   "source": [
    "#Q14) What is the nature of skewness when mean > median ?\n"
   ]
  },
  {
   "cell_type": "markdown",
   "id": "28b4e049",
   "metadata": {},
   "source": [
    "when the mean is greater than median it is positively skewed and have the longer tail in the right side of the plot "
   ]
  },
  {
   "cell_type": "markdown",
   "id": "f88e8775",
   "metadata": {},
   "source": [
    "## Question 15"
   ]
  },
  {
   "cell_type": "code",
   "execution_count": 96,
   "id": "f1adcb80",
   "metadata": {},
   "outputs": [],
   "source": [
    "#Q15) What is the nature of skewness when median > mean?\n"
   ]
  },
  {
   "cell_type": "markdown",
   "id": "63b740d1",
   "metadata": {},
   "source": [
    "when the median is greater than mean it is negatively skwed and have longer tail in the left side of the plot \n",
    "there is longer tail on the left side of the distribution\n"
   ]
  },
  {
   "cell_type": "markdown",
   "id": "7491f8e7",
   "metadata": {},
   "source": [
    "## Question 16"
   ]
  },
  {
   "cell_type": "code",
   "execution_count": 97,
   "id": "7865003c",
   "metadata": {},
   "outputs": [],
   "source": [
    "#Q16) What does positive kurtosis value indicates for a data ?"
   ]
  },
  {
   "cell_type": "markdown",
   "id": "77204cfa",
   "metadata": {},
   "source": [
    "positive kurtosis suggests that distribution have heavier peaks compared to normal distribution and this type of distribution is called leptokurtic."
   ]
  },
  {
   "cell_type": "markdown",
   "id": "c85fbdbc",
   "metadata": {},
   "source": [
    "## Question 17"
   ]
  },
  {
   "cell_type": "code",
   "execution_count": 98,
   "id": "4d423a1e",
   "metadata": {},
   "outputs": [],
   "source": [
    "#Q17) What does negative kurtosis value indicates for a data?"
   ]
  },
  {
   "cell_type": "markdown",
   "id": "e5f02909",
   "metadata": {},
   "source": [
    "A negative kurtosis have lighter tails and a flatter peaks compared to normal distribution and this type of distribution is called as Platykurtic "
   ]
  },
  {
   "cell_type": "markdown",
   "id": "39847514",
   "metadata": {},
   "source": [
    "## Question 18"
   ]
  },
  {
   "cell_type": "markdown",
   "id": "e9702d30",
   "metadata": {},
   "source": [
    "Q18) Answer the below questions using the below boxplot visualization.\n",
    " \n",
    "What can we say about the distribution of the data?\n",
    "What is nature of skewness of the data?\n",
    "What will be the IQR of the data (approximately)? \n",
    "\n"
   ]
  },
  {
   "cell_type": "raw",
   "id": "67e66b55",
   "metadata": {},
   "source": [
    "The data is not equally distributed accross the plane. there might be some outliers in the data. median of the data will be betewen 15.7(approx)\n",
    "\n",
    "25% of the data lies b/w 0-10\n",
    "50% of the data lies b/w 10-18\n",
    "75% of the data lies b/w 18-20\n",
    "\n",
    "the data will be left skewed since the length on the upper quadrant is higher than the data in the lower quandrand. median will be greater than mean so the data will be left skewed \n",
    "\n",
    "IQR is the Inter Quartile Range\n",
    "Q1=10\n",
    "Q2=14.5\n",
    "Q3=18\n",
    "\n",
    "IQR = Q3-Q2\n",
    "    = 18-10\n",
    "    = 8(approx)"
   ]
  },
  {
   "cell_type": "markdown",
   "id": "d4b93972",
   "metadata": {},
   "source": [
    "## Question 19"
   ]
  },
  {
   "cell_type": "markdown",
   "id": "a81e96a6",
   "metadata": {},
   "source": [
    "Q19) Comment on the below BoxPlot Visualizations?"
   ]
  },
  {
   "cell_type": "raw",
   "id": "5cc82a91",
   "metadata": {},
   "source": [
    "In the diagram we can see that both the boxplots have data in where as 2nd boxplot is having more data compared to boxplot1\n",
    "\n",
    "1st boxplot data is distributed between 230-280\n",
    "where the median will be 263(approx)\n",
    "\n",
    "2nd boxplot have data from 200-350\n",
    "where the median is 265(approx)\n"
   ]
  },
  {
   "cell_type": "markdown",
   "id": "8b8565ea",
   "metadata": {},
   "source": [
    "## Question 20"
   ]
  },
  {
   "cell_type": "raw",
   "id": "c98ff5b0",
   "metadata": {},
   "source": [
    "Q 20) Calculate probability from the given dataset for the below cases\n",
    "\n",
    "Data _set: Cars.csv\n",
    "Calculate the probability of MPG  of Cars for the below cases.\n",
    "       MPG <- Cars$MPG\n",
    "a.\tP(MPG>38)\n",
    "b.\tP(MPG<40)\n",
    "c.  P(20<MPG<50)\n"
   ]
  },
  {
   "cell_type": "code",
   "execution_count": 99,
   "id": "e4df7523",
   "metadata": {},
   "outputs": [],
   "source": [
    "carsdata = pd.read_csv('Cars.csv')"
   ]
  },
  {
   "cell_type": "code",
   "execution_count": 105,
   "id": "1a683ea5",
   "metadata": {},
   "outputs": [
    {
     "data": {
      "text/html": [
       "<div>\n",
       "<style scoped>\n",
       "    .dataframe tbody tr th:only-of-type {\n",
       "        vertical-align: middle;\n",
       "    }\n",
       "\n",
       "    .dataframe tbody tr th {\n",
       "        vertical-align: top;\n",
       "    }\n",
       "\n",
       "    .dataframe thead th {\n",
       "        text-align: right;\n",
       "    }\n",
       "</style>\n",
       "<table border=\"1\" class=\"dataframe\">\n",
       "  <thead>\n",
       "    <tr style=\"text-align: right;\">\n",
       "      <th></th>\n",
       "      <th>HP</th>\n",
       "      <th>MPG</th>\n",
       "      <th>VOL</th>\n",
       "      <th>SP</th>\n",
       "      <th>WT</th>\n",
       "    </tr>\n",
       "  </thead>\n",
       "  <tbody>\n",
       "    <tr>\n",
       "      <th>0</th>\n",
       "      <td>49</td>\n",
       "      <td>53.700681</td>\n",
       "      <td>89</td>\n",
       "      <td>104.185353</td>\n",
       "      <td>28.762059</td>\n",
       "    </tr>\n",
       "    <tr>\n",
       "      <th>1</th>\n",
       "      <td>55</td>\n",
       "      <td>50.013401</td>\n",
       "      <td>92</td>\n",
       "      <td>105.461264</td>\n",
       "      <td>30.466833</td>\n",
       "    </tr>\n",
       "    <tr>\n",
       "      <th>2</th>\n",
       "      <td>55</td>\n",
       "      <td>50.013401</td>\n",
       "      <td>92</td>\n",
       "      <td>105.461264</td>\n",
       "      <td>30.193597</td>\n",
       "    </tr>\n",
       "    <tr>\n",
       "      <th>3</th>\n",
       "      <td>70</td>\n",
       "      <td>45.696322</td>\n",
       "      <td>92</td>\n",
       "      <td>113.461264</td>\n",
       "      <td>30.632114</td>\n",
       "    </tr>\n",
       "    <tr>\n",
       "      <th>4</th>\n",
       "      <td>53</td>\n",
       "      <td>50.504232</td>\n",
       "      <td>92</td>\n",
       "      <td>104.461264</td>\n",
       "      <td>29.889149</td>\n",
       "    </tr>\n",
       "  </tbody>\n",
       "</table>\n",
       "</div>"
      ],
      "text/plain": [
       "   HP        MPG  VOL          SP         WT\n",
       "0  49  53.700681   89  104.185353  28.762059\n",
       "1  55  50.013401   92  105.461264  30.466833\n",
       "2  55  50.013401   92  105.461264  30.193597\n",
       "3  70  45.696322   92  113.461264  30.632114\n",
       "4  53  50.504232   92  104.461264  29.889149"
      ]
     },
     "execution_count": 105,
     "metadata": {},
     "output_type": "execute_result"
    }
   ],
   "source": [
    "carsdata.head()\n"
   ]
  },
  {
   "cell_type": "code",
   "execution_count": 106,
   "id": "3d36fcdf",
   "metadata": {},
   "outputs": [],
   "source": [
    "#a) p(MPG>38)"
   ]
  },
  {
   "cell_type": "code",
   "execution_count": 109,
   "id": "28f6dbc3",
   "metadata": {
    "scrolled": true
   },
   "outputs": [
    {
     "data": {
      "text/plain": [
       "34.42207572802469"
      ]
     },
     "execution_count": 109,
     "metadata": {},
     "output_type": "execute_result"
    }
   ],
   "source": [
    "meanmpg = carsdata['MPG'].mean()\n",
    "meanmpg"
   ]
  },
  {
   "cell_type": "code",
   "execution_count": 111,
   "id": "7af3092a",
   "metadata": {},
   "outputs": [
    {
     "data": {
      "text/plain": [
       "9.131444731795982"
      ]
     },
     "execution_count": 111,
     "metadata": {},
     "output_type": "execute_result"
    }
   ],
   "source": [
    "stddev_mpg = carsdata['MPG'].std()\n",
    "stddev_mpg"
   ]
  },
  {
   "cell_type": "code",
   "execution_count": 121,
   "id": "7625e511",
   "metadata": {},
   "outputs": [
    {
     "data": {
      "text/plain": [
       "0.34759392515827137"
      ]
     },
     "execution_count": 121,
     "metadata": {},
     "output_type": "execute_result"
    }
   ],
   "source": [
    "a=1-stats.norm.cdf(38,meanmpg,stddev_mpg)\n",
    "a"
   ]
  },
  {
   "cell_type": "code",
   "execution_count": 122,
   "id": "4ad174f8",
   "metadata": {},
   "outputs": [],
   "source": [
    "# from the above solution we can say that the percentile is 34.75% || 0.34 "
   ]
  },
  {
   "cell_type": "code",
   "execution_count": 124,
   "id": "bf90e7ff",
   "metadata": {},
   "outputs": [],
   "source": [
    "# b) P(MPG<40)"
   ]
  },
  {
   "cell_type": "code",
   "execution_count": 129,
   "id": "d75636eb",
   "metadata": {},
   "outputs": [
    {
     "data": {
      "text/plain": [
       "0.7293498762151609"
      ]
     },
     "execution_count": 129,
     "metadata": {},
     "output_type": "execute_result"
    }
   ],
   "source": [
    "b = stats.norm.cdf(40,meanmpg,stddev_mpg)\n",
    "b"
   ]
  },
  {
   "cell_type": "code",
   "execution_count": 130,
   "id": "8a133b89",
   "metadata": {},
   "outputs": [],
   "source": [
    "# the solution says that the percentage will be 0.729 or 72.9%"
   ]
  },
  {
   "cell_type": "code",
   "execution_count": 131,
   "id": "3377b4fa",
   "metadata": {},
   "outputs": [],
   "source": [
    "# c) P(20<MPG<50)"
   ]
  },
  {
   "cell_type": "code",
   "execution_count": 135,
   "id": "e081d180",
   "metadata": {},
   "outputs": [
    {
     "data": {
      "text/plain": [
       "1.2430968797327491e-05"
      ]
     },
     "execution_count": 135,
     "metadata": {},
     "output_type": "execute_result"
    }
   ],
   "source": [
    "c = stats.norm.cdf(0.50,meanmpg,stddev_mpg)-stats.norm.cdf(0.20,meanmpg,stddev_mpg)\n",
    "c"
   ]
  },
  {
   "cell_type": "code",
   "execution_count": 136,
   "id": "a2b7c805",
   "metadata": {},
   "outputs": [],
   "source": [
    "# the probabitlity of the above question is 1.243"
   ]
  },
  {
   "cell_type": "markdown",
   "id": "f47c897a",
   "metadata": {},
   "source": [
    "## Question 21"
   ]
  },
  {
   "cell_type": "raw",
   "id": "d564a8f2",
   "metadata": {},
   "source": [
    "Q 21) Check whether the data follows normal distribution\n",
    "a)\tCheck whether the MPG of Cars follows Normal Distribution \n",
    "        Dataset: Cars.csv\n",
    "\n",
    "\n",
    "b)\tCheck Whether the Adipose Tissue (AT) and Waist Circumference(Waist)  from wc-at data set  follows Normal Distribution \n",
    "       Dataset: wc-at.csv\n"
   ]
  },
  {
   "cell_type": "code",
   "execution_count": 137,
   "id": "fa27ffd0",
   "metadata": {},
   "outputs": [],
   "source": [
    "## A) check whether the mpg of cars follows normal distribution"
   ]
  },
  {
   "cell_type": "code",
   "execution_count": 173,
   "id": "3f23b948",
   "metadata": {},
   "outputs": [],
   "source": [
    "import statsmodels.api as sm"
   ]
  },
  {
   "cell_type": "code",
   "execution_count": 174,
   "id": "ed4f72bf",
   "metadata": {},
   "outputs": [
    {
     "data": {
      "text/html": [
       "<div>\n",
       "<style scoped>\n",
       "    .dataframe tbody tr th:only-of-type {\n",
       "        vertical-align: middle;\n",
       "    }\n",
       "\n",
       "    .dataframe tbody tr th {\n",
       "        vertical-align: top;\n",
       "    }\n",
       "\n",
       "    .dataframe thead th {\n",
       "        text-align: right;\n",
       "    }\n",
       "</style>\n",
       "<table border=\"1\" class=\"dataframe\">\n",
       "  <thead>\n",
       "    <tr style=\"text-align: right;\">\n",
       "      <th></th>\n",
       "      <th>HP</th>\n",
       "      <th>MPG</th>\n",
       "      <th>VOL</th>\n",
       "      <th>SP</th>\n",
       "      <th>WT</th>\n",
       "    </tr>\n",
       "  </thead>\n",
       "  <tbody>\n",
       "    <tr>\n",
       "      <th>0</th>\n",
       "      <td>49</td>\n",
       "      <td>53.700681</td>\n",
       "      <td>89</td>\n",
       "      <td>104.185353</td>\n",
       "      <td>28.762059</td>\n",
       "    </tr>\n",
       "    <tr>\n",
       "      <th>1</th>\n",
       "      <td>55</td>\n",
       "      <td>50.013401</td>\n",
       "      <td>92</td>\n",
       "      <td>105.461264</td>\n",
       "      <td>30.466833</td>\n",
       "    </tr>\n",
       "    <tr>\n",
       "      <th>2</th>\n",
       "      <td>55</td>\n",
       "      <td>50.013401</td>\n",
       "      <td>92</td>\n",
       "      <td>105.461264</td>\n",
       "      <td>30.193597</td>\n",
       "    </tr>\n",
       "    <tr>\n",
       "      <th>3</th>\n",
       "      <td>70</td>\n",
       "      <td>45.696322</td>\n",
       "      <td>92</td>\n",
       "      <td>113.461264</td>\n",
       "      <td>30.632114</td>\n",
       "    </tr>\n",
       "    <tr>\n",
       "      <th>4</th>\n",
       "      <td>53</td>\n",
       "      <td>50.504232</td>\n",
       "      <td>92</td>\n",
       "      <td>104.461264</td>\n",
       "      <td>29.889149</td>\n",
       "    </tr>\n",
       "  </tbody>\n",
       "</table>\n",
       "</div>"
      ],
      "text/plain": [
       "   HP        MPG  VOL          SP         WT\n",
       "0  49  53.700681   89  104.185353  28.762059\n",
       "1  55  50.013401   92  105.461264  30.466833\n",
       "2  55  50.013401   92  105.461264  30.193597\n",
       "3  70  45.696322   92  113.461264  30.632114\n",
       "4  53  50.504232   92  104.461264  29.889149"
      ]
     },
     "execution_count": 174,
     "metadata": {},
     "output_type": "execute_result"
    }
   ],
   "source": [
    "carsdata.head()"
   ]
  },
  {
   "cell_type": "code",
   "execution_count": 175,
   "id": "0f43d4f2",
   "metadata": {},
   "outputs": [
    {
     "name": "stderr",
     "output_type": "stream",
     "text": [
      "C:\\Users\\Admin\\AppData\\Roaming\\Python\\Python39\\site-packages\\seaborn\\distributions.py:2551: FutureWarning: `distplot` is a deprecated function and will be removed in a future version. Please adapt your code to use either `displot` (a figure-level function with similar flexibility) or `histplot` (an axes-level function for histograms).\n",
      "  warnings.warn(msg, FutureWarning)\n"
     ]
    },
    {
     "data": {
      "image/png": "[encoded data removed]",
      "text/plain": [
       "<Figure size 640x480 with 1 Axes>"
      ]
     },
     "metadata": {},
     "output_type": "display_data"
    }
   ],
   "source": [
    "sns.distplot(carsdata['MPG'],label='Cars-MPG')\n",
    "plt.legend()\n",
    "plt.show()"
   ]
  },
  {
   "cell_type": "code",
   "execution_count": 176,
   "id": "225267b8",
   "metadata": {},
   "outputs": [
    {
     "data": {
      "text/plain": [
       "34.42207572802469"
      ]
     },
     "execution_count": 176,
     "metadata": {},
     "output_type": "execute_result"
    }
   ],
   "source": [
    "carsdata['MPG'].mean()"
   ]
  },
  {
   "cell_type": "code",
   "execution_count": 177,
   "id": "37b58eb9",
   "metadata": {},
   "outputs": [
    {
     "data": {
      "text/plain": [
       "35.15272697"
      ]
     },
     "execution_count": 177,
     "metadata": {},
     "output_type": "execute_result"
    }
   ],
   "source": [
    "carsdata['MPG'].median()"
   ]
  },
  {
   "cell_type": "code",
   "execution_count": 181,
   "id": "5e2d3ff3",
   "metadata": {},
   "outputs": [
    {
     "data": {
      "image/png": "[encoded data removed]",
      "text/plain": [
       "<Figure size 640x480 with 1 Axes>"
      ]
     },
     "metadata": {},
     "output_type": "display_data"
    }
   ],
   "source": [
    "sm.qqplot(carsdata.MPG,line='s')\n",
    "py.show()"
   ]
  },
  {
   "cell_type": "raw",
   "id": "a06c8a18",
   "metadata": {},
   "source": [
    "in the above QQplot the distribution is normal that datas are near to the line and hence we can say it is nomral distribution"
   ]
  },
  {
   "cell_type": "code",
   "execution_count": 182,
   "id": "226650e8",
   "metadata": {},
   "outputs": [],
   "source": [
    "#b)\tCheck Whether the Adipose Tissue (AT) and Waist Circumference(Waist)  from wc-at data set  follows Normal Distribution "
   ]
  },
  {
   "cell_type": "code",
   "execution_count": 187,
   "id": "645e602c",
   "metadata": {},
   "outputs": [],
   "source": [
    "datawc = pd.read_csv('wc-at.csv')"
   ]
  },
  {
   "cell_type": "code",
   "execution_count": 188,
   "id": "bfce5f3e",
   "metadata": {},
   "outputs": [
    {
     "data": {
      "text/html": [
       "<div>\n",
       "<style scoped>\n",
       "    .dataframe tbody tr th:only-of-type {\n",
       "        vertical-align: middle;\n",
       "    }\n",
       "\n",
       "    .dataframe tbody tr th {\n",
       "        vertical-align: top;\n",
       "    }\n",
       "\n",
       "    .dataframe thead th {\n",
       "        text-align: right;\n",
       "    }\n",
       "</style>\n",
       "<table border=\"1\" class=\"dataframe\">\n",
       "  <thead>\n",
       "    <tr style=\"text-align: right;\">\n",
       "      <th></th>\n",
       "      <th>Waist</th>\n",
       "      <th>AT</th>\n",
       "    </tr>\n",
       "  </thead>\n",
       "  <tbody>\n",
       "    <tr>\n",
       "      <th>0</th>\n",
       "      <td>74.75</td>\n",
       "      <td>25.72</td>\n",
       "    </tr>\n",
       "    <tr>\n",
       "      <th>1</th>\n",
       "      <td>72.60</td>\n",
       "      <td>25.89</td>\n",
       "    </tr>\n",
       "    <tr>\n",
       "      <th>2</th>\n",
       "      <td>81.80</td>\n",
       "      <td>42.60</td>\n",
       "    </tr>\n",
       "    <tr>\n",
       "      <th>3</th>\n",
       "      <td>83.95</td>\n",
       "      <td>42.80</td>\n",
       "    </tr>\n",
       "    <tr>\n",
       "      <th>4</th>\n",
       "      <td>74.65</td>\n",
       "      <td>29.84</td>\n",
       "    </tr>\n",
       "  </tbody>\n",
       "</table>\n",
       "</div>"
      ],
      "text/plain": [
       "   Waist     AT\n",
       "0  74.75  25.72\n",
       "1  72.60  25.89\n",
       "2  81.80  42.60\n",
       "3  83.95  42.80\n",
       "4  74.65  29.84"
      ]
     },
     "execution_count": 188,
     "metadata": {},
     "output_type": "execute_result"
    }
   ],
   "source": [
    "datawc.head()"
   ]
  },
  {
   "cell_type": "code",
   "execution_count": 189,
   "id": "15c2b098",
   "metadata": {},
   "outputs": [],
   "source": [
    "#Waist Circumference(Waist)"
   ]
  },
  {
   "cell_type": "code",
   "execution_count": 192,
   "id": "0fdd379e",
   "metadata": {},
   "outputs": [
    {
     "name": "stderr",
     "output_type": "stream",
     "text": [
      "C:\\Users\\Admin\\AppData\\Roaming\\Python\\Python39\\site-packages\\seaborn\\distributions.py:2551: FutureWarning: `distplot` is a deprecated function and will be removed in a future version. Please adapt your code to use either `displot` (a figure-level function with similar flexibility) or `histplot` (an axes-level function for histograms).\n",
      "  warnings.warn(msg, FutureWarning)\n"
     ]
    },
    {
     "data": {
      "text/plain": [
       "<AxesSubplot:xlabel='Waist', ylabel='Density'>"
      ]
     },
     "execution_count": 192,
     "metadata": {},
     "output_type": "execute_result"
    },
    {
     "data": {
      "image/png": "[encoded data removed]",
      "text/plain": [
       "<Figure size 640x480 with 1 Axes>"
      ]
     },
     "metadata": {},
     "output_type": "display_data"
    }
   ],
   "source": [
    "sns.distplot(datawc['Waist'])"
   ]
  },
  {
   "cell_type": "code",
   "execution_count": 193,
   "id": "d9bfb483",
   "metadata": {},
   "outputs": [],
   "source": [
    "import statsmodels.api as sm"
   ]
  },
  {
   "cell_type": "code",
   "execution_count": 196,
   "id": "30fb05fa",
   "metadata": {},
   "outputs": [
    {
     "data": {
      "image/png": "[encoded data removed]",
      "text/plain": [
       "<Figure size 640x480 with 1 Axes>"
      ]
     },
     "metadata": {},
     "output_type": "display_data"
    }
   ],
   "source": [
    "sm.qqplot(datawc.Waist,line='s')\n",
    "py.show()"
   ]
  },
  {
   "cell_type": "raw",
   "id": "3556ba08",
   "metadata": {},
   "source": [
    "this dataset is not normal because the data points majorly are not on the line so we can say that this is abnormal distribution"
   ]
  },
  {
   "cell_type": "code",
   "execution_count": 198,
   "id": "1411aa4c",
   "metadata": {},
   "outputs": [],
   "source": [
    "#Adipose Tissue(AT)"
   ]
  },
  {
   "cell_type": "code",
   "execution_count": 200,
   "id": "6aebf06a",
   "metadata": {},
   "outputs": [
    {
     "name": "stderr",
     "output_type": "stream",
     "text": [
      "C:\\Users\\Admin\\AppData\\Roaming\\Python\\Python39\\site-packages\\seaborn\\distributions.py:2551: FutureWarning: `distplot` is a deprecated function and will be removed in a future version. Please adapt your code to use either `displot` (a figure-level function with similar flexibility) or `histplot` (an axes-level function for histograms).\n",
      "  warnings.warn(msg, FutureWarning)\n"
     ]
    },
    {
     "data": {
      "text/plain": [
       "<AxesSubplot:xlabel='AT', ylabel='Density'>"
      ]
     },
     "execution_count": 200,
     "metadata": {},
     "output_type": "execute_result"
    },
    {
     "data": {
      "image/png": "[encoded data removed]",
      "text/plain": [
       "<Figure size 640x480 with 1 Axes>"
      ]
     },
     "metadata": {},
     "output_type": "display_data"
    }
   ],
   "source": [
    "sns.distplot(datawc.AT)"
   ]
  },
  {
   "cell_type": "code",
   "execution_count": 201,
   "id": "7d618efa",
   "metadata": {},
   "outputs": [
    {
     "data": {
      "image/png": "[encoded data removed]",
      "text/plain": [
       "<Figure size 640x480 with 1 Axes>"
      ]
     },
     "metadata": {},
     "output_type": "display_data"
    }
   ],
   "source": [
    "sm.qqplot(datawc.AT,line='s')\n",
    "py.show()"
   ]
  },
  {
   "cell_type": "raw",
   "id": "d837977d",
   "metadata": {},
   "source": [
    "This dataset is normal because the data points follows normal curve so hence, we can say that AT is normally distributed"
   ]
  },
  {
   "cell_type": "markdown",
   "id": "faecd247",
   "metadata": {},
   "source": [
    "## Question 22"
   ]
  },
  {
   "cell_type": "markdown",
   "id": "11546b07",
   "metadata": {},
   "source": [
    "Q 22) Calculate the Z scores of  90% confidence interval,94% confidence interval, 60% confidence interval "
   ]
  },
  {
   "cell_type": "code",
   "execution_count": 224,
   "id": "9c2ec40b",
   "metadata": {},
   "outputs": [
    {
     "data": {
      "text/plain": [
       "0.95"
      ]
     },
     "execution_count": 224,
     "metadata": {},
     "output_type": "execute_result"
    }
   ],
   "source": [
    "#Zscore for 90% confidence interval\n",
    "#fomula = 1+CI/2\n",
    "(1+0.90)/2"
   ]
  },
  {
   "cell_type": "code",
   "execution_count": 223,
   "id": "9375c5a2",
   "metadata": {},
   "outputs": [
    {
     "data": {
      "text/plain": [
       "1.6448536269514722"
      ]
     },
     "execution_count": 223,
     "metadata": {},
     "output_type": "execute_result"
    }
   ],
   "source": [
    "stats.norm.ppf(0.95)"
   ]
  },
  {
   "cell_type": "code",
   "execution_count": 225,
   "id": "3e39bef2",
   "metadata": {},
   "outputs": [],
   "source": [
    "#Z-score for 90% Confidence interval is 1.65"
   ]
  },
  {
   "cell_type": "code",
   "execution_count": 226,
   "id": "7958e5f3",
   "metadata": {},
   "outputs": [
    {
     "data": {
      "text/plain": [
       "0.97"
      ]
     },
     "execution_count": 226,
     "metadata": {},
     "output_type": "execute_result"
    }
   ],
   "source": [
    "#Z-score for 94% confidence interval \n",
    "#formula = 1+CI/2\n",
    "(1+0.94)/2"
   ]
  },
  {
   "cell_type": "code",
   "execution_count": 227,
   "id": "c98fca15",
   "metadata": {},
   "outputs": [
    {
     "data": {
      "text/plain": [
       "1.8807936081512509"
      ]
     },
     "execution_count": 227,
     "metadata": {},
     "output_type": "execute_result"
    }
   ],
   "source": [
    "stats.norm.ppf(0.97)"
   ]
  },
  {
   "cell_type": "code",
   "execution_count": 228,
   "id": "beafbca8",
   "metadata": {},
   "outputs": [],
   "source": [
    "# Z-score for 94% confidence interval is 1.88"
   ]
  },
  {
   "cell_type": "code",
   "execution_count": 229,
   "id": "f119902b",
   "metadata": {},
   "outputs": [
    {
     "data": {
      "text/plain": [
       "0.8"
      ]
     },
     "execution_count": 229,
     "metadata": {},
     "output_type": "execute_result"
    }
   ],
   "source": [
    "## zscore for 60% confidence interval\n",
    "#formula = 1+CI/2\n",
    "(1+0.60)/2"
   ]
  },
  {
   "cell_type": "code",
   "execution_count": 230,
   "id": "57dcb559",
   "metadata": {},
   "outputs": [
    {
     "data": {
      "text/plain": [
       "0.8416212335729143"
      ]
     },
     "execution_count": 230,
     "metadata": {},
     "output_type": "execute_result"
    }
   ],
   "source": [
    "stats.norm.ppf(0.8)"
   ]
  },
  {
   "cell_type": "code",
   "execution_count": 231,
   "id": "2936a9ae",
   "metadata": {},
   "outputs": [],
   "source": [
    "#Z-score for 60% confidence interval is 0.841"
   ]
  },
  {
   "cell_type": "markdown",
   "id": "3e527d05",
   "metadata": {},
   "source": [
    "## Question 23"
   ]
  },
  {
   "cell_type": "markdown",
   "id": "f5b961a2",
   "metadata": {},
   "source": [
    "Q 23) Calculate the t scores of 95% confidence interval, 96% confidence interval, 99% confidence interval for sample size of 25"
   ]
  },
  {
   "cell_type": "code",
   "execution_count": 233,
   "id": "41b4bf6a",
   "metadata": {},
   "outputs": [
    {
     "data": {
      "text/plain": [
       "0.975"
      ]
     },
     "execution_count": 233,
     "metadata": {},
     "output_type": "execute_result"
    }
   ],
   "source": [
    "#t score for 95% confidence interval\n",
    "#formula = 1+CI/2\n",
    "(1+0.95)/2"
   ]
  },
  {
   "cell_type": "code",
   "execution_count": 240,
   "id": "7b4c220a",
   "metadata": {},
   "outputs": [
    {
     "data": {
      "text/plain": [
       "-2.0638985616280205"
      ]
     },
     "execution_count": 240,
     "metadata": {},
     "output_type": "execute_result"
    }
   ],
   "source": [
    "#df (degree of freedom = n-1= 25-1 = 24)\n",
    "stats.t.ppf(1-0.975,24)"
   ]
  },
  {
   "cell_type": "markdown",
   "id": "fb8af051",
   "metadata": {},
   "source": [
    "the t score for 95% confidence interval with sample size 25 is 2.0638"
   ]
  },
  {
   "cell_type": "code",
   "execution_count": 243,
   "id": "adbf3c55",
   "metadata": {},
   "outputs": [
    {
     "data": {
      "text/plain": [
       "0.98"
      ]
     },
     "execution_count": 243,
     "metadata": {},
     "output_type": "execute_result"
    }
   ],
   "source": [
    "# tscore for 96% confidence interval\n",
    "(1+0.96)/2"
   ]
  },
  {
   "cell_type": "code",
   "execution_count": 244,
   "id": "e79a95c7",
   "metadata": {},
   "outputs": [
    {
     "data": {
      "text/plain": [
       "-2.1715446760080677"
      ]
     },
     "execution_count": 244,
     "metadata": {},
     "output_type": "execute_result"
    }
   ],
   "source": [
    "stats.t.ppf(1-0.98,24)"
   ]
  },
  {
   "cell_type": "markdown",
   "id": "db1d0ea0",
   "metadata": {},
   "source": [
    "the t score for 95% confidence interval with sample size 25 is 2.1715"
   ]
  },
  {
   "cell_type": "code",
   "execution_count": 247,
   "id": "4274078e",
   "metadata": {},
   "outputs": [
    {
     "data": {
      "text/plain": [
       "0.995"
      ]
     },
     "execution_count": 247,
     "metadata": {},
     "output_type": "execute_result"
    }
   ],
   "source": [
    "# t score for 99% confidence interval \n",
    "(1+0.99)/2"
   ]
  },
  {
   "cell_type": "code",
   "execution_count": 248,
   "id": "d7e1dbba",
   "metadata": {},
   "outputs": [
    {
     "data": {
      "text/plain": [
       "-2.796939504772804"
      ]
     },
     "execution_count": 248,
     "metadata": {},
     "output_type": "execute_result"
    }
   ],
   "source": [
    "stats.t.ppf(1-0.995,24)"
   ]
  },
  {
   "cell_type": "markdown",
   "id": "a7132ee4",
   "metadata": {},
   "source": [
    "the t score for 95% confidence interval with sample size 25 is 2.796939"
   ]
  },
  {
   "cell_type": "markdown",
   "id": "496da544",
   "metadata": {},
   "source": [
    "## Question 24"
   ]
  },
  {
   "cell_type": "markdown",
   "id": "24d2b09e",
   "metadata": {},
   "source": [
    "  Q 24)   A Government  company claims that an average light bulb lasts 270 days. A researcher randomly selects 18 bulbs for testing. The sampled bulbs last an average of 260 days, with a standard deviation of 90 days. If the CEO's claim were true, what is the probability that 18 randomly selected bulbs would have an average life of no more than 260 days\n",
    "Hint:  \n",
    "   rcode > pt(tscore,df)  \n",
    " df -> degrees of freedom\n"
   ]
  },
  {
   "cell_type": "code",
   "execution_count": 256,
   "id": "9a3df41d",
   "metadata": {},
   "outputs": [],
   "source": [
    "samplesize =18\n",
    "samplemean = 260\n",
    "samplestddev = 90\n",
    "populationmean = 270"
   ]
  },
  {
   "cell_type": "code",
   "execution_count": 265,
   "id": "3fdbf1d7",
   "metadata": {},
   "outputs": [
    {
     "data": {
      "text/plain": [
       "-0.4714045207910317"
      ]
     },
     "execution_count": 265,
     "metadata": {},
     "output_type": "execute_result"
    }
   ],
   "source": [
    "#formula for tstats= (samplemean - populationmean)/samplestddev/**samplesize\n",
    "tstats = (samplemean-populationmean)/(samplestddev/math.sqrt(samplesize))\n",
    "tstats"
   ]
  },
  {
   "cell_type": "code",
   "execution_count": 276,
   "id": "501dfa35",
   "metadata": {},
   "outputs": [
    {
     "data": {
      "text/plain": [
       "0.32167253567098364"
      ]
     },
     "execution_count": 276,
     "metadata": {},
     "output_type": "execute_result"
    }
   ],
   "source": [
    "#find p(x>=260)\n",
    "#pvalue = stats.t.sf(abs(tscore),df=n-1).....using sf function\n",
    "pvalue = stats.t.sf(abs(tstats),17)\n",
    "pvalue"
   ]
  },
  {
   "cell_type": "markdown",
   "id": "642e0241",
   "metadata": {},
   "source": [
    "#from the above calculation the pvalue > tscore \n",
    "hence, there H0 have rejected the Ha that the selected 18 bulbs cannot have an average life for 260 days and more, the probability is rejected the h0"
   ]
  },
  {
   "cell_type": "code",
   "execution_count": null,
   "id": "605c351b",
   "metadata": {},
   "outputs": [],
   "source": []
  }
 ],
 "metadata": {
  "kernelspec": {
   "display_name": "Python 3 (ipykernel)",
   "language": "python",
   "name": "python3"
  },
  "language_info": {
   "codemirror_mode": {
    "name": "ipython",
    "version": 3
   },
   "file_extension": ".py",
   "mimetype": "text/x-python",
   "name": "python",
   "nbconvert_exporter": "python",
   "pygments_lexer": "ipython3",
   "version": "3.9.13"
  }
 },
 "nbformat": 4,
 "nbformat_minor": 5
}
