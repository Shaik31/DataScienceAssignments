{
 "cells": [
  {
   "cell_type": "markdown",
   "id": "3331a8f5",
   "metadata": {},
   "source": [
    "### 1).Write a Python program that checks whether a given number is prime or not. A prime number is a natural number greater than 1 that has no positive divisors other than 1 and itself."
   ]
  },
  {
   "cell_type": "code",
   "execution_count": 1,
   "id": "c380ea1b",
   "metadata": {},
   "outputs": [],
   "source": [
    "def is_prime(number):\n",
    "    if number <=1:\n",
    "        return False\n",
    "    if number ==2:\n",
    "        return True\n",
    "    if number %2 == 0:\n",
    "        return False\n",
    "    else:\n",
    "        for i in range(3, int(number **0.5)+1,2):\n",
    "            if number % i ==0:\n",
    "                return False\n",
    "        return True"
   ]
  },
  {
   "cell_type": "code",
   "execution_count": null,
   "id": "b078f20a",
   "metadata": {},
   "outputs": [],
   "source": [
    "#test the fuction\n",
    "num = int(input(\"Enter a number:\"))\n",
    "if is_prime(num):\n",
    "    print(num,\"is a prime number\")\n",
    "else:\n",
    "    print(num,\"is not a prime number\")"
   ]
  },
  {
   "cell_type": "markdown",
   "id": "03931b82",
   "metadata": {},
   "source": [
    "### 2). Product of Random Numbers"
   ]
  },
  {
   "cell_type": "code",
   "execution_count": null,
   "id": "7890cd68",
   "metadata": {},
   "outputs": [],
   "source": [
    "import random"
   ]
  },
  {
   "cell_type": "code",
   "execution_count": null,
   "id": "2eba660c",
   "metadata": {},
   "outputs": [],
   "source": [
    "def generate_two_random():\n",
    "    num1 = random.randint(1,10)\n",
    "    num2 = random.randint(1,10)\n",
    "    return num1,num2\n",
    "\n",
    "def main():\n",
    "    num1,num2 = generate_two_random()\n",
    "    product = num1*num2\n",
    "    \n",
    "    print(\"Multiply these two numbers :\",num1, \"and\",num2)\n",
    "    user_answer = int(input(\"Enter the answer here:\"))\n",
    "    \n",
    "    if user_answer == product:\n",
    "        print(\"Yayyy your answer is correct\", product)\n",
    "    else:\n",
    "        print(\"Sorry! Thats a Wrong Answer, the correct answer is:\",product)\n",
    "\n",
    "if __name__ == \"__main__\":\n",
    "    main()"
   ]
  },
  {
   "cell_type": "markdown",
   "id": "8904fd5e",
   "metadata": {},
   "source": [
    "### 3).Create a Python script that prints the squares of all even or odd numbers within the range of 100 to 200. Choose either even or odd numbers and document your choice in the code."
   ]
  },
  {
   "cell_type": "code",
   "execution_count": null,
   "id": "d23bdbdd",
   "metadata": {},
   "outputs": [],
   "source": [
    "def print_even_squares(start,end):\n",
    "    print(\"the even numbers form:\",start, \"to\", end)\n",
    "    for num in range(start,end+1):\n",
    "        if num % 2 ==0:\n",
    "            print(num,\":\",num**2,\n",
    "                 )\n",
    "\n",
    "        "
   ]
  },
  {
   "cell_type": "code",
   "execution_count": null,
   "id": "c7b673ea",
   "metadata": {},
   "outputs": [],
   "source": [
    "startnum = 100\n",
    "endnum=200\n"
   ]
  },
  {
   "cell_type": "code",
   "execution_count": null,
   "id": "cc561ab0",
   "metadata": {},
   "outputs": [],
   "source": [
    "print_even_squares(startnum,endnum)\n",
    "    "
   ]
  },
  {
   "cell_type": "markdown",
   "id": "a7faecc1",
   "metadata": {},
   "source": [
    "### 4). Word Counter \" write a program to count the number of words in a given text.\""
   ]
  },
  {
   "cell_type": "code",
   "execution_count": 10,
   "id": "c81d7c73",
   "metadata": {},
   "outputs": [],
   "source": [
    "def word_count(text):\n",
    "    words = text.split()\n",
    "    count_words = {}\n",
    "    for word in words:\n",
    "        word = word.lower()\n",
    "        if word in count_words:\n",
    "            count_words[word]=+1\n",
    "        else:\n",
    "                count_words[word]=1\n",
    "        \n",
    "        for words,cout in word_count.items():\n",
    "            print(f\"'{word}':{count}\")"
   ]
  },
  {
   "cell_type": "code",
   "execution_count": 13,
   "id": "e9a649ae",
   "metadata": {},
   "outputs": [
    {
     "name": "stdout",
     "output_type": "stream",
     "text": [
      "'this': 2\n",
      "'is': 1\n",
      "'a': 1\n",
      "'sample': 1\n",
      "'text': 1\n",
      "'to': 1\n",
      "'check': 1\n",
      "'whether': 1\n",
      "'progrom': 1\n",
      "'works': 1\n",
      "'or': 1\n",
      "'not': 1\n"
     ]
    }
   ],
   "source": [
    "text=\"this is a sample text to check whether this progrom works or not\"\n",
    "count_words(text)"
   ]
  },
  {
   "cell_type": "markdown",
   "id": "6d92687c",
   "metadata": {},
   "source": [
    "### 5). write a python script to check whether a given string is palindrome or not"
   ]
  },
  {
   "cell_type": "code",
   "execution_count": 25,
   "id": "3ad32856",
   "metadata": {},
   "outputs": [
    {
     "name": "stdout",
     "output_type": "stream",
     "text": [
      "write your sentence hereracecar\n",
      "True\n"
     ]
    }
   ],
   "source": [
    "def is_palindrome(s):\n",
    "    cleaned_s = ''.join(char.lower() for char in s if char.isalnum())\n",
    "    return cleaned_s == cleaned_s[::-1]\n",
    "\n",
    "userinput = str(input(\"write your sentence here\"))\n",
    "print(is_palindrome(userinput))\n"
   ]
  },
  {
   "cell_type": "code",
   "execution_count": null,
   "id": "079c3256",
   "metadata": {},
   "outputs": [],
   "source": [
    "\n"
   ]
  },
  {
   "cell_type": "code",
   "execution_count": null,
   "id": "5378958d",
   "metadata": {},
   "outputs": [],
   "source": []
  }
 ],
 "metadata": {
  "kernelspec": {
   "display_name": "Python 3 (ipykernel)",
   "language": "python",
   "name": "python3"
  },
  "language_info": {
   "codemirror_mode": {
    "name": "ipython",
    "version": 3
   },
   "file_extension": ".py",
   "mimetype": "text/x-python",
   "name": "python",
   "nbconvert_exporter": "python",
   "pygments_lexer": "ipython3",
   "version": "3.9.13"
  }
 },
 "nbformat": 4,
 "nbformat_minor": 5
}
