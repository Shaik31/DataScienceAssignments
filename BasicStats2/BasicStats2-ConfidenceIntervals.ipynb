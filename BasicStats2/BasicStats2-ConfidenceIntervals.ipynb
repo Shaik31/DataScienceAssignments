{
 "cells": [
  {
   "cell_type": "code",
   "execution_count": 51,
   "id": "9efd810a",
   "metadata": {},
   "outputs": [],
   "source": [
    "import numpy as np\n",
    "import scipy.stats as stats\n",
    "import pandas as pd\n",
    "import matplotlib.pyplot as plt"
   ]
  },
  {
   "cell_type": "code",
   "execution_count": 2,
   "id": "dacd28f9",
   "metadata": {},
   "outputs": [],
   "source": [
    "sample=[1.13, 1.55, 1.43, 0.92, 1.25, 1.36, 1.32, 0.85, 1.07, 1.48, 1.20, 1.33, 1.18, 1.22, 1.29]"
   ]
  },
  {
   "cell_type": "code",
   "execution_count": 57,
   "id": "2ef310eb",
   "metadata": {},
   "outputs": [
    {
     "data": {
      "text/plain": [
       "(array([1., 1., 0., 1., 2., 3., 3., 1., 1., 2.]),\n",
       " array([0.85, 0.92, 0.99, 1.06, 1.13, 1.2 , 1.27, 1.34, 1.41, 1.48, 1.55]),\n",
       " <BarContainer object of 10 artists>)"
      ]
     },
     "execution_count": 57,
     "metadata": {},
     "output_type": "execute_result"
    },
    {
     "data": {
      "image/png": "[encoded data removed]",
      "text/plain": [
       "<Figure size 640x480 with 1 Axes>"
      ]
     },
     "metadata": {},
     "output_type": "display_data"
    }
   ],
   "source": [
    "plt.hist(sample)"
   ]
  },
  {
   "cell_type": "markdown",
   "id": "11518a95",
   "metadata": {},
   "source": [
    "## a).Build 99% Confidence Interval Using Sample Standard Deviation"
   ]
  },
  {
   "cell_type": "code",
   "execution_count": 12,
   "id": "183bca15",
   "metadata": {},
   "outputs": [
    {
     "name": "stdout",
     "output_type": "stream",
     "text": [
      "0.18661427836285438 1.2386666666666666\n"
     ]
    }
   ],
   "source": [
    "sample_mean=np.mean(sample)\n",
    "sample_std=np.std(sample)\n",
    "print(sample_std,sample_mean)\n"
   ]
  },
  {
   "cell_type": "code",
   "execution_count": 34,
   "id": "1c416b78",
   "metadata": {},
   "outputs": [
    {
     "data": {
      "text/plain": [
       "14"
      ]
     },
     "execution_count": 34,
     "metadata": {},
     "output_type": "execute_result"
    }
   ],
   "source": [
    "size=len(sample)\n",
    "n=size-1\n",
    "n"
   ]
  },
  {
   "cell_type": "code",
   "execution_count": 61,
   "id": "96307c19",
   "metadata": {},
   "outputs": [
    {
     "data": {
      "text/plain": [
       "0.04987476379384733"
      ]
     },
     "execution_count": 61,
     "metadata": {},
     "output_type": "execute_result"
    }
   ],
   "source": [
    "SEM=sample_std/np.sqrt(n)\n",
    "SEM"
   ]
  },
  {
   "cell_type": "code",
   "execution_count": 73,
   "id": "215cedba",
   "metadata": {},
   "outputs": [
    {
     "data": {
      "text/plain": [
       "2.97684273411266"
      ]
     },
     "execution_count": 73,
     "metadata": {},
     "output_type": "execute_result"
    }
   ],
   "source": [
    "t_score=stats.t.ppf(1-0.01/2,14)\n",
    "t_score"
   ]
  },
  {
   "cell_type": "code",
   "execution_count": 74,
   "id": "7928f4a8",
   "metadata": {},
   "outputs": [
    {
     "data": {
      "text/plain": [
       "0.1484693282152996"
      ]
     },
     "execution_count": 74,
     "metadata": {},
     "output_type": "execute_result"
    }
   ],
   "source": [
    "ME = t_score*SEM\n",
    "ME"
   ]
  },
  {
   "cell_type": "code",
   "execution_count": 75,
   "id": "af440b35",
   "metadata": {},
   "outputs": [
    {
     "data": {
      "text/plain": [
       "1.090197338451367"
      ]
     },
     "execution_count": 75,
     "metadata": {},
     "output_type": "execute_result"
    }
   ],
   "source": [
    "LCI = sample_mean-ME\n",
    "LCI"
   ]
  },
  {
   "cell_type": "code",
   "execution_count": 76,
   "id": "21b952ea",
   "metadata": {},
   "outputs": [
    {
     "data": {
      "text/plain": [
       "1.3871359948819662"
      ]
     },
     "execution_count": 76,
     "metadata": {},
     "output_type": "execute_result"
    }
   ],
   "source": [
    "UCI= sample_mean+ME\n",
    "UCI"
   ]
  },
  {
   "cell_type": "code",
   "execution_count": 77,
   "id": "2afaf435",
   "metadata": {},
   "outputs": [],
   "source": [
    "tstats = (sample_mean-1.2)/(sample_std/np.sqrt(n))"
   ]
  },
  {
   "cell_type": "code",
   "execution_count": 78,
   "id": "3afe69a6",
   "metadata": {},
   "outputs": [
    {
     "data": {
      "text/plain": [
       "0.7752751837881714"
      ]
     },
     "execution_count": 78,
     "metadata": {},
     "output_type": "execute_result"
    }
   ],
   "source": [
    "tstats"
   ]
  },
  {
   "cell_type": "code",
   "execution_count": 79,
   "id": "3d2ac83d",
   "metadata": {},
   "outputs": [
    {
     "data": {
      "text/plain": [
       "2.97684273411266"
      ]
     },
     "execution_count": 79,
     "metadata": {},
     "output_type": "execute_result"
    }
   ],
   "source": [
    "#Critical value\n",
    "t_score=stats.t.ppf(1-0.01/2,14)\n",
    "t_score"
   ]
  },
  {
   "cell_type": "code",
   "execution_count": 81,
   "id": "a24d98c3",
   "metadata": {},
   "outputs": [],
   "source": [
    "#hence the tstats value is lesser then critical value we reject the null hypothis "
   ]
  },
  {
   "cell_type": "markdown",
   "id": "1ab10ea0",
   "metadata": {},
   "source": [
    "## b). Build 99% Confidence Interval Using Known Population Standard Deviation"
   ]
  },
  {
   "cell_type": "code",
   "execution_count": 71,
   "id": "40ea26f4",
   "metadata": {},
   "outputs": [],
   "source": [
    "#h0 = character printed before the failure is 0.2 million\n",
    "#ha = characters printed before the failure is not 0.2 million"
   ]
  },
  {
   "cell_type": "code",
   "execution_count": 49,
   "id": "61686d2a",
   "metadata": {},
   "outputs": [],
   "source": [
    "tstats1 = (sample_mean-0.2)/(sample_std/np.sqrt(n))"
   ]
  },
  {
   "cell_type": "code",
   "execution_count": 50,
   "id": "af662111",
   "metadata": {},
   "outputs": [
    {
     "data": {
      "text/plain": [
       "20.825495454171936"
      ]
     },
     "execution_count": 50,
     "metadata": {},
     "output_type": "execute_result"
    }
   ],
   "source": [
    "tstats1"
   ]
  },
  {
   "cell_type": "code",
   "execution_count": 70,
   "id": "380c0afe",
   "metadata": {},
   "outputs": [
    {
     "data": {
      "text/plain": [
       "2.97684273411266"
      ]
     },
     "execution_count": 70,
     "metadata": {},
     "output_type": "execute_result"
    }
   ],
   "source": [
    "#finding the critical value\n",
    "t_score=stats.t.ppf(1-0.01/2,14)\n",
    "t_score"
   ]
  },
  {
   "cell_type": "code",
   "execution_count": 80,
   "id": "86c18e6c",
   "metadata": {},
   "outputs": [],
   "source": [
    "#hence the the tstats value > critical value we failed to reject the null hypothis and then we conclued the print heads have printed more the o.2 million of characters "
   ]
  },
  {
   "cell_type": "code",
   "execution_count": null,
   "id": "45353b24",
   "metadata": {},
   "outputs": [],
   "source": []
  }
 ],
 "metadata": {
  "kernelspec": {
   "display_name": "Python 3 (ipykernel)",
   "language": "python",
   "name": "python3"
  },
  "language_info": {
   "codemirror_mode": {
    "name": "ipython",
    "version": 3
   },
   "file_extension": ".py",
   "mimetype": "text/x-python",
   "name": "python",
   "nbconvert_exporter": "python",
   "pygments_lexer": "ipython3",
   "version": "3.9.13"
  }
 },
 "nbformat": 4,
 "nbformat_minor": 5
}
