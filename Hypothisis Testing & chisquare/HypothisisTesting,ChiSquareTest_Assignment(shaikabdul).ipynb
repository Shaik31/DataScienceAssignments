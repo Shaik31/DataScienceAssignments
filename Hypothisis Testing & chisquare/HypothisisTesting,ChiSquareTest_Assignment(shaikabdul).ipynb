{
 "cells": [
  {
   "cell_type": "markdown",
   "id": "5988e825",
   "metadata": {},
   "source": [
    "## Hypothesis Testing"
   ]
  },
  {
   "cell_type": "markdown",
   "id": "1793d298",
   "metadata": {},
   "source": [
    "## Z - Test"
   ]
  },
  {
   "cell_type": "code",
   "execution_count": 42,
   "id": "43645a8d",
   "metadata": {},
   "outputs": [],
   "source": [
    "#NUll hypothesis(H0) = The mean weekly operating cost is still described by the theoretical model: \n",
    "#Alternative hypothesis(HA) = the mean weekly operating cost is higher than the theoretical model expected:"
   ]
  },
  {
   "cell_type": "code",
   "execution_count": 43,
   "id": "b47aa451",
   "metadata": {},
   "outputs": [],
   "source": [
    "#xbar= 3050 , popmean = 4000 (1000 + 5(600units), stddev = 125 , n = 25(retaraunts) "
   ]
  },
  {
   "cell_type": "code",
   "execution_count": 44,
   "id": "73c30e3b",
   "metadata": {},
   "outputs": [],
   "source": [
    "#As this is normal distribution we can go to the tstats value to check\n",
    "#tstats formula = samplemean - popmean/(stddev/sqrt(n))"
   ]
  },
  {
   "cell_type": "code",
   "execution_count": 45,
   "id": "314355ac",
   "metadata": {},
   "outputs": [],
   "source": [
    "import math\n",
    "import scipy.stats as stats\n",
    "import numpy as np"
   ]
  },
  {
   "cell_type": "code",
   "execution_count": 46,
   "id": "1e80f3cb",
   "metadata": {},
   "outputs": [],
   "source": [
    "xbar = 3050\n",
    "popmean = 600\n",
    "stddev = 125\n",
    "n = 25"
   ]
  },
  {
   "cell_type": "code",
   "execution_count": 49,
   "id": "29687c50",
   "metadata": {},
   "outputs": [
    {
     "data": {
      "text/plain": [
       "19.6"
      ]
     },
     "execution_count": 49,
     "metadata": {},
     "output_type": "execute_result"
    }
   ],
   "source": [
    "z_score = (xbar-popmean)/stddev\n",
    "z_score"
   ]
  },
  {
   "cell_type": "code",
   "execution_count": 40,
   "id": "6b5afef0",
   "metadata": {
    "scrolled": true
   },
   "outputs": [
    {
     "data": {
      "text/plain": [
       "1.6448536269514722"
      ]
     },
     "execution_count": 40,
     "metadata": {},
     "output_type": "execute_result"
    }
   ],
   "source": [
    "#critical value\n",
    "critical_z_value=stats.norm.ppf(1-0.05)\n",
    "critical_z_value"
   ]
  },
  {
   "cell_type": "code",
   "execution_count": 50,
   "id": "eba927da",
   "metadata": {},
   "outputs": [
    {
     "name": "stdout",
     "output_type": "stream",
     "text": [
      "Reject Null Hypothesis. There is evidence to support the claim that the weekly operating costs have increased.\n"
     ]
    }
   ],
   "source": [
    "if z_score > critical_z_value:\n",
    "    print(\"Reject Null Hypothesis. There is evidence to support the claim that the weekly operating costs have increased.\")\n",
    "else:\n",
    "    print(\"Fail to reject Null Hypothesis. There is not enough evidence to support the claim that the weekly operating costs have increased.\")\n"
   ]
  },
  {
   "cell_type": "markdown",
   "id": "2aeff7f4",
   "metadata": {},
   "source": [
    "## CHI-SQUARE TEST"
   ]
  },
  {
   "cell_type": "code",
   "execution_count": 58,
   "id": "4fbb4f10",
   "metadata": {},
   "outputs": [],
   "source": [
    "import pandas as pd"
   ]
  },
  {
   "cell_type": "markdown",
   "id": "2f9fafbc",
   "metadata": {},
   "source": [
    "i have done two methods in the chisquare test as the first method is to make csv file from the data and import it to the jupytor note book and perform chisqare test\n",
    "and another method is to calculate and do the test\n",
    "first method is here"
   ]
  },
  {
   "cell_type": "code",
   "execution_count": 65,
   "id": "feeed32d",
   "metadata": {},
   "outputs": [],
   "source": [
    "data = pd.read_csv('Mizzarecorp.csv',index_col=\"Satisfaction\")"
   ]
  },
  {
   "cell_type": "code",
   "execution_count": 66,
   "id": "e967d519",
   "metadata": {},
   "outputs": [
    {
     "data": {
      "text/html": [
       "<div>\n",
       "<style scoped>\n",
       "    .dataframe tbody tr th:only-of-type {\n",
       "        vertical-align: middle;\n",
       "    }\n",
       "\n",
       "    .dataframe tbody tr th {\n",
       "        vertical-align: top;\n",
       "    }\n",
       "\n",
       "    .dataframe thead th {\n",
       "        text-align: right;\n",
       "    }\n",
       "</style>\n",
       "<table border=\"1\" class=\"dataframe\">\n",
       "  <thead>\n",
       "    <tr style=\"text-align: right;\">\n",
       "      <th></th>\n",
       "      <th>Smart_Thermostat</th>\n",
       "      <th>Smart_Light</th>\n",
       "    </tr>\n",
       "    <tr>\n",
       "      <th>Satisfaction</th>\n",
       "      <th></th>\n",
       "      <th></th>\n",
       "    </tr>\n",
       "  </thead>\n",
       "  <tbody>\n",
       "    <tr>\n",
       "      <th>Very Satisfied</th>\n",
       "      <td>50</td>\n",
       "      <td>70</td>\n",
       "    </tr>\n",
       "    <tr>\n",
       "      <th>Satisfied</th>\n",
       "      <td>80</td>\n",
       "      <td>100</td>\n",
       "    </tr>\n",
       "    <tr>\n",
       "      <th>Neutral</th>\n",
       "      <td>60</td>\n",
       "      <td>90</td>\n",
       "    </tr>\n",
       "    <tr>\n",
       "      <th>Unsatisfied</th>\n",
       "      <td>30</td>\n",
       "      <td>50</td>\n",
       "    </tr>\n",
       "    <tr>\n",
       "      <th>Very Unsatisfied</th>\n",
       "      <td>20</td>\n",
       "      <td>50</td>\n",
       "    </tr>\n",
       "  </tbody>\n",
       "</table>\n",
       "</div>"
      ],
      "text/plain": [
       "                  Smart_Thermostat  Smart_Light\n",
       "Satisfaction                                   \n",
       "Very Satisfied                  50           70\n",
       "Satisfied                       80          100\n",
       "Neutral                         60           90\n",
       "Unsatisfied                     30           50\n",
       "Very Unsatisfied                20           50"
      ]
     },
     "execution_count": 66,
     "metadata": {},
     "output_type": "execute_result"
    }
   ],
   "source": [
    "data"
   ]
  },
  {
   "cell_type": "markdown",
   "id": "8e0b4772",
   "metadata": {},
   "source": [
    "Null Hypothesis (H0): There is no association between the type of smart home device purchased and the customer satisfaction level.\n",
    "\n",
    "Alternative Hypothesis (H1): There is an association between the type of smart home device purchased and the customer satisfaction level."
   ]
  },
  {
   "cell_type": "code",
   "execution_count": 83,
   "id": "c35c34e6",
   "metadata": {},
   "outputs": [
    {
     "data": {
      "text/plain": [
       "(5.638227513227513,\n",
       " 0.22784371130697179,\n",
       " 4,\n",
       " array([[ 48.,  72.],\n",
       "        [ 72., 108.],\n",
       "        [ 60.,  90.],\n",
       "        [ 32.,  48.],\n",
       "        [ 28.,  42.]]))"
      ]
     },
     "execution_count": 83,
     "metadata": {},
     "output_type": "execute_result"
    }
   ],
   "source": [
    "#stats value from the inbuilt python funtion\n",
    "#the formula is chi2 = (expected value - observed value)wholesquare/expectedvalue\n",
    "stats.chi2_contingency(data)"
   ]
  },
  {
   "cell_type": "code",
   "execution_count": 84,
   "id": "b8c2007a",
   "metadata": {},
   "outputs": [],
   "source": [
    "#2nd method of chisqare test"
   ]
  },
  {
   "cell_type": "code",
   "execution_count": 85,
   "id": "62c2fa6c",
   "metadata": {},
   "outputs": [
    {
     "data": {
      "text/plain": [
       "array([[ 50,  70],\n",
       "       [ 80, 100],\n",
       "       [ 60,  90],\n",
       "       [ 30,  50],\n",
       "       [ 20,  50]])"
      ]
     },
     "execution_count": 85,
     "metadata": {},
     "output_type": "execute_result"
    }
   ],
   "source": [
    "#observed values of Smart Thermo and smart light\n",
    "observed = np.array([[50, 70],\n",
    "                     [80, 100],\n",
    "                     [60, 90],\n",
    "                     [30, 50],\n",
    "                     [20, 50]])\n",
    "observed"
   ]
  },
  {
   "cell_type": "code",
   "execution_count": 86,
   "id": "68348329",
   "metadata": {},
   "outputs": [
    {
     "data": {
      "text/plain": [
       "array([[ 48,  72],\n",
       "       [ 72, 108],\n",
       "       [ 60,  90],\n",
       "       [ 32,  48],\n",
       "       [ 28,  42]])"
      ]
     },
     "execution_count": 86,
     "metadata": {},
     "output_type": "execute_result"
    }
   ],
   "source": [
    "#calculated expected values of thermo and smart light\n",
    "# to calculate expected  E = rowcounts*columncounts/totalcount\n",
    "expected = np.array([[48,72],\n",
    "                    [72,108],\n",
    "                    [60,90],\n",
    "                    [32,48],\n",
    "                    [28,42]])\n",
    "expected"
   ]
  },
  {
   "cell_type": "code",
   "execution_count": 87,
   "id": "cdb4de67",
   "metadata": {},
   "outputs": [
    {
     "data": {
      "text/plain": [
       "Power_divergenceResult(statistic=array([4.21333333, 2.05714286]), pvalue=array([0.37790353, 0.72524945]))"
      ]
     },
     "execution_count": 87,
     "metadata": {},
     "output_type": "execute_result"
    }
   ],
   "source": [
    "stats.chisquare(expected,observed)"
   ]
  },
  {
   "cell_type": "code",
   "execution_count": 88,
   "id": "5940c55d",
   "metadata": {},
   "outputs": [
    {
     "data": {
      "text/plain": [
       "9.487729036781154"
      ]
     },
     "execution_count": 88,
     "metadata": {},
     "output_type": "execute_result"
    }
   ],
   "source": [
    "stats.chi2.ppf(1-0.05,4)"
   ]
  },
  {
   "cell_type": "code",
   "execution_count": 82,
   "id": "6a3a23ad",
   "metadata": {},
   "outputs": [],
   "source": [
    "#since the stats value is not higher than the critical value \n",
    "# we failed to reject the null hopothisis\n",
    "#There is no association between the type of smart home device purchased and the customer satisfaction level."
   ]
  },
  {
   "cell_type": "code",
   "execution_count": null,
   "id": "1db148ed",
   "metadata": {},
   "outputs": [],
   "source": []
  }
 ],
 "metadata": {
  "kernelspec": {
   "display_name": "Python 3 (ipykernel)",
   "language": "python",
   "name": "python3"
  },
  "language_info": {
   "codemirror_mode": {
    "name": "ipython",
    "version": 3
   },
   "file_extension": ".py",
   "mimetype": "text/x-python",
   "name": "python",
   "nbconvert_exporter": "python",
   "pygments_lexer": "ipython3",
   "version": "3.9.13"
  }
 },
 "nbformat": 4,
 "nbformat_minor": 5
}
